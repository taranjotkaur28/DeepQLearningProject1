{
  "cells": [
    {
      "cell_type": "markdown",
      "metadata": {
        "id": "LbZcI9ZXHl3a"
      },
      "source": [
        "# Deep Q-Learning for Lunar Landing"
      ]
    },
    {
      "cell_type": "markdown",
      "metadata": {
        "id": "E8yPRjteXgPb"
      },
      "source": [
        "## Part 0 - Installing the required packages and importing the libraries"
      ]
    },
    {
      "cell_type": "markdown",
      "metadata": {
        "id": "slEm5teGWjWU"
      },
      "source": [
        "### Installing Gymnasium"
      ]
    },
    {
      "cell_type": "code",
      "execution_count": 10,
      "metadata": {
        "id": "dbnq3XpoKa_7",
        "colab": {
          "base_uri": "https://localhost:8080/"
        },
        "outputId": "1656bc38-0b01-4c39-fe76-bf2a0ab2eba7"
      },
      "outputs": [
        {
          "output_type": "stream",
          "name": "stdout",
          "text": [
            "Requirement already satisfied: gymnasium in /usr/local/lib/python3.10/dist-packages (0.29.1)\n",
            "Requirement already satisfied: numpy>=1.21.0 in /usr/local/lib/python3.10/dist-packages (from gymnasium) (1.25.2)\n",
            "Requirement already satisfied: cloudpickle>=1.2.0 in /usr/local/lib/python3.10/dist-packages (from gymnasium) (2.2.1)\n",
            "Requirement already satisfied: typing-extensions>=4.3.0 in /usr/local/lib/python3.10/dist-packages (from gymnasium) (4.12.2)\n",
            "Requirement already satisfied: farama-notifications>=0.0.1 in /usr/local/lib/python3.10/dist-packages (from gymnasium) (0.0.4)\n",
            "Requirement already satisfied: gymnasium[accept-rom-license,atari] in /usr/local/lib/python3.10/dist-packages (0.29.1)\n",
            "Requirement already satisfied: numpy>=1.21.0 in /usr/local/lib/python3.10/dist-packages (from gymnasium[accept-rom-license,atari]) (1.25.2)\n",
            "Requirement already satisfied: cloudpickle>=1.2.0 in /usr/local/lib/python3.10/dist-packages (from gymnasium[accept-rom-license,atari]) (2.2.1)\n",
            "Requirement already satisfied: typing-extensions>=4.3.0 in /usr/local/lib/python3.10/dist-packages (from gymnasium[accept-rom-license,atari]) (4.12.2)\n",
            "Requirement already satisfied: farama-notifications>=0.0.1 in /usr/local/lib/python3.10/dist-packages (from gymnasium[accept-rom-license,atari]) (0.0.4)\n",
            "Requirement already satisfied: autorom[accept-rom-license]~=0.4.2 in /usr/local/lib/python3.10/dist-packages (from gymnasium[accept-rom-license,atari]) (0.4.2)\n",
            "Requirement already satisfied: shimmy[atari]<1.0,>=0.1.0 in /usr/local/lib/python3.10/dist-packages (from gymnasium[accept-rom-license,atari]) (0.2.1)\n",
            "Requirement already satisfied: click in /usr/local/lib/python3.10/dist-packages (from autorom[accept-rom-license]~=0.4.2->gymnasium[accept-rom-license,atari]) (8.1.7)\n",
            "Requirement already satisfied: requests in /usr/local/lib/python3.10/dist-packages (from autorom[accept-rom-license]~=0.4.2->gymnasium[accept-rom-license,atari]) (2.31.0)\n",
            "Requirement already satisfied: tqdm in /usr/local/lib/python3.10/dist-packages (from autorom[accept-rom-license]~=0.4.2->gymnasium[accept-rom-license,atari]) (4.66.4)\n",
            "Requirement already satisfied: AutoROM.accept-rom-license in /usr/local/lib/python3.10/dist-packages (from autorom[accept-rom-license]~=0.4.2->gymnasium[accept-rom-license,atari]) (0.6.1)\n",
            "Requirement already satisfied: ale-py~=0.8.1 in /usr/local/lib/python3.10/dist-packages (from shimmy[atari]<1.0,>=0.1.0->gymnasium[accept-rom-license,atari]) (0.8.1)\n",
            "Requirement already satisfied: importlib-resources in /usr/local/lib/python3.10/dist-packages (from ale-py~=0.8.1->shimmy[atari]<1.0,>=0.1.0->gymnasium[accept-rom-license,atari]) (6.4.0)\n",
            "Requirement already satisfied: charset-normalizer<4,>=2 in /usr/local/lib/python3.10/dist-packages (from requests->autorom[accept-rom-license]~=0.4.2->gymnasium[accept-rom-license,atari]) (3.3.2)\n",
            "Requirement already satisfied: idna<4,>=2.5 in /usr/local/lib/python3.10/dist-packages (from requests->autorom[accept-rom-license]~=0.4.2->gymnasium[accept-rom-license,atari]) (3.7)\n",
            "Requirement already satisfied: urllib3<3,>=1.21.1 in /usr/local/lib/python3.10/dist-packages (from requests->autorom[accept-rom-license]~=0.4.2->gymnasium[accept-rom-license,atari]) (2.0.7)\n",
            "Requirement already satisfied: certifi>=2017.4.17 in /usr/local/lib/python3.10/dist-packages (from requests->autorom[accept-rom-license]~=0.4.2->gymnasium[accept-rom-license,atari]) (2024.7.4)\n",
            "Reading package lists... Done\n",
            "Building dependency tree... Done\n",
            "Reading state information... Done\n",
            "swig is already the newest version (4.0.2-1ubuntu1).\n",
            "0 upgraded, 0 newly installed, 0 to remove and 45 not upgraded.\n",
            "Requirement already satisfied: gymnasium[box2d] in /usr/local/lib/python3.10/dist-packages (0.29.1)\n",
            "Requirement already satisfied: numpy>=1.21.0 in /usr/local/lib/python3.10/dist-packages (from gymnasium[box2d]) (1.25.2)\n",
            "Requirement already satisfied: cloudpickle>=1.2.0 in /usr/local/lib/python3.10/dist-packages (from gymnasium[box2d]) (2.2.1)\n",
            "Requirement already satisfied: typing-extensions>=4.3.0 in /usr/local/lib/python3.10/dist-packages (from gymnasium[box2d]) (4.12.2)\n",
            "Requirement already satisfied: farama-notifications>=0.0.1 in /usr/local/lib/python3.10/dist-packages (from gymnasium[box2d]) (0.0.4)\n",
            "Requirement already satisfied: box2d-py==2.3.5 in /usr/local/lib/python3.10/dist-packages (from gymnasium[box2d]) (2.3.5)\n",
            "Requirement already satisfied: pygame>=2.1.3 in /usr/local/lib/python3.10/dist-packages (from gymnasium[box2d]) (2.6.0)\n",
            "Requirement already satisfied: swig==4.* in /usr/local/lib/python3.10/dist-packages (from gymnasium[box2d]) (4.2.1)\n"
          ]
        }
      ],
      "source": [
        "!pip install gymnasium\n",
        "!pip install \"gymnasium[atari, accept-rom-license]\"\n",
        "!apt-get install -y swig\n",
        "!pip install gymnasium[box2d]"
      ]
    },
    {
      "cell_type": "markdown",
      "metadata": {
        "id": "brqiMN3UW9T9"
      },
      "source": [
        "### Importing the libraries"
      ]
    },
    {
      "cell_type": "code",
      "execution_count": 11,
      "metadata": {
        "id": "mZaKXP_aMl9O"
      },
      "outputs": [],
      "source": [
        "import os\n",
        "import random\n",
        "import numpy as np\n",
        "import torch\n",
        "import torch.nn as nn\n",
        "import torch.optim as optim\n",
        "import torch.nn.functional as F\n",
        "import torch.autograd as autograd\n",
        "from torch.autograd import Variable\n",
        "from collections import deque, namedtuple"
      ]
    },
    {
      "cell_type": "markdown",
      "metadata": {
        "id": "EzlDKXvkXzGI"
      },
      "source": [
        "## Part 1 - Building the AI"
      ]
    },
    {
      "cell_type": "markdown",
      "metadata": {
        "id": "UtG6Zc83YYy3"
      },
      "source": [
        "### Creating the architecture of the Neural Network"
      ]
    },
    {
      "cell_type": "code",
      "source": [
        "#let's code brain of the AI\n",
        "\n",
        "class Network(nn.Module):\n",
        "  def __init__(self, state_size, action_size, seed = 42):\n",
        "      super(Network, self).__init__()\n",
        "      self.seed = torch.manual_seed(seed)\n",
        "      self.fc1 = nn.Linear(state_size, 64) #fully connected layer connection, 64 = no. of neurons\n",
        "      self.fc2 = nn.Linear(64, 64)\n",
        "      self.fc3 = nn.Linear(64, action_size)\n",
        "\n",
        "  def forward(self, state):\n",
        "    x = self.fc1(state)\n",
        "    x = F.relu(x)\n",
        "    x = self.fc2(x)\n",
        "    x = F.relu(x)\n",
        "    return self.fc3(x)\n",
        "\n",
        "\n"
      ],
      "metadata": {
        "id": "4M2vaEovJIkC"
      },
      "execution_count": 12,
      "outputs": []
    },
    {
      "cell_type": "markdown",
      "metadata": {
        "id": "UxVrBnFWZKb1"
      },
      "source": [
        "## Part 2 - Training the AI"
      ]
    },
    {
      "cell_type": "markdown",
      "metadata": {
        "id": "T364fz9qZb2j"
      },
      "source": [
        "### Setting up the environment"
      ]
    },
    {
      "cell_type": "code",
      "source": [
        "import gymnasium as gym\n",
        "env = gym.make('LunarLander-v2')\n",
        "state_shape = env.observation_space.shape\n",
        "state_size = env.observation_space.shape[0]\n",
        "number_actions = env.action_space.n\n",
        "\n",
        "print(\"state shape: \", state_shape)\n",
        "print(\"state size: \", state_size)\n",
        "print(\"number of actions: \", number_actions)\n",
        "\n"
      ],
      "metadata": {
        "colab": {
          "base_uri": "https://localhost:8080/"
        },
        "id": "A8tkiFr7M_r9",
        "outputId": "3177392b-b017-4cf5-cfd0-3b83407265aa"
      },
      "execution_count": 13,
      "outputs": [
        {
          "output_type": "stream",
          "name": "stdout",
          "text": [
            "state shape:  (8,)\n",
            "state size:  8\n",
            "number of actions:  4\n"
          ]
        }
      ]
    },
    {
      "cell_type": "markdown",
      "metadata": {
        "id": "c_dZmOIvZgj-"
      },
      "source": [
        "### Initializing the hyperparameters"
      ]
    },
    {
      "cell_type": "code",
      "source": [
        "learning_rate = 5e-4\n",
        "minibatch_size = 100\n",
        "discount_factor= 0.99\n",
        "replay_buffer_size = int(1e5)\n",
        "interpolation_parameter = 1e-3"
      ],
      "metadata": {
        "id": "jSj_Ok9zP0Ce"
      },
      "execution_count": 14,
      "outputs": []
    },
    {
      "cell_type": "markdown",
      "metadata": {
        "id": "8hD_Vs-bYnip"
      },
      "source": [
        "### Implementing Experience Replay"
      ]
    },
    {
      "cell_type": "code",
      "source": [
        "class ReplayMemory(object):\n",
        "\n",
        "  def __init__(self, capacity):  #capacity = maximum size of the memory buffer\n",
        "     self.device = torch.device(\"cuda:0\" if torch.cuda.is_available() else \"cpu\")\n",
        "     self.capacity = capacity\n",
        "     self.memory = []\n",
        "\n",
        "  def push(self, event): # event = state or action or reward or done\n",
        "    self.memory.append(event)\n",
        "    if len(self.memory) > self.capacity:\n",
        "      del self.memory[0] #because the oldest event is less relevant than the newest event\n",
        "\n",
        "  def sample(self, batch_size):\n",
        "    experiences = random.sample(self.memory, batch_size) #batch_size = no. of experiences we wanna have\n",
        "    states = torch.from_numpy(np.vstack([ e[0] for e in experiences if e is not None])).float().to(self.device)\n",
        "    actions = torch.from_numpy(np.vstack([ e[1] for e in experiences if e is not None])).long().to(self.device)\n",
        "    rewards = torch.from_numpy(np.vstack([ e[2] for e in experiences if e is not None])).float().to(self.device)\n",
        "    next_states = torch.from_numpy(np.vstack([e[3] for e in experiences if e is not None])).float().to(self.device)\n",
        "    dones = torch.from_numpy(np.vstack([ e[4] for e in experiences if e is not None]).astype(np.uint8)).float().to(self.device)\n",
        "    #np.uint8 is used to represent boolean values\n",
        "    return states, next_states, actions, rewards, dones\n",
        "\n"
      ],
      "metadata": {
        "id": "8ZMMs2UpRQmY"
      },
      "execution_count": 15,
      "outputs": []
    },
    {
      "cell_type": "markdown",
      "metadata": {
        "id": "JmEkbFbUY6Jt"
      },
      "source": [
        "### Implementing the DQN class"
      ]
    },
    {
      "cell_type": "code",
      "source": [
        "class Agent():\n",
        "  def __init__(self, state_size, action_size):\n",
        "    self.device = torch.device(\"cuda:0\" if torch.cuda.is_available() else \"cpu\")\n",
        "    self.state_size = state_size\n",
        "    self.action_size = action_size\n",
        "    self.local_qnetwork = Network(state_size, action_size).to(self.device)\n",
        "    self.target_qnetwork = Network(state_size, action_size).to(self.device)\n",
        "    self.optimizer = optim.Adam(self.local_qnetwork.parameters(), lr = learning_rate)\n",
        "    self.memory = ReplayMemory(replay_buffer_size)\n",
        "    self.t_step = 0\n",
        "\n",
        "  def step(self, state, action, reward, next_state, done):\n",
        "    self.memory.push((state, action, reward, next_state, done))\n",
        "    self.t_step = (self.t_step + 1) %4 #this checks if we are every 4 steps\n",
        "    if self.t_step ==0:\n",
        "      if len(self.memory.memory) > minibatch_size:\n",
        "        experiences = self.memory.sample(100)\n",
        "        self.learn(experiences, discount_factor)\n",
        "\n",
        "  def act(self, state, epsilon = 0.):\n",
        "    state = torch.from_numpy(state).float().unsqueeze(0).to(self.device)\n",
        "    self.local_qnetwork.eval()\n",
        "    #no_grad = gradient computation is disabled, no training mode\n",
        "    with torch.no_grad():\n",
        "      action_values = self.local_qnetwork(state)\n",
        "    self.local_qnetwork.train()\n",
        "    if random.random() > epsilon:\n",
        "      return np.argmax(action_values.cpu().data.numpy())\n",
        "    else:\n",
        "      return random.choice(np.arange(self.action_size))\n",
        "\n",
        "\n",
        "  def learn(self, experiences, discount_factor):\n",
        "    states, next_states, actions, rewards, dones = experiences #unpacking\n",
        "    next_q_targets = self.target_qnetwork(next_states).detach().max(1)[0].unsqueeze(1)\n",
        "    q_targets = rewards + (discount_factor* next_q_targets* (1-dones))\n",
        "    q_expected = self.local_qnetwork(states).gather(1, actions)\n",
        "    loss = F.mse_loss(q_expected, q_targets)\n",
        "    self.optimizer.zero_grad()\n",
        "    loss.backward() #backpropagation\n",
        "    self.optimizer.step()\n",
        "    self.soft_update(self.local_qnetwork, self.target_qnetwork, interpolation_parameter)\n",
        "\n",
        "  def soft_update(self, local_model, target_model, interpolation_parameter):\n",
        "    for target_param, local_param in zip(target_model.parameters(),local_model.parameters()):\n",
        "      target_param.data.copy_(interpolation_parameter*local_param.data + (1.0 - interpolation_parameter)* target_param.data)\n",
        "\n",
        "\n",
        "\n",
        "\n",
        "\n",
        "\n",
        ""
      ],
      "metadata": {
        "id": "Xc1ebRPpUQp1"
      },
      "execution_count": 21,
      "outputs": []
    },
    {
      "cell_type": "markdown",
      "metadata": {
        "id": "o1tZElccZmf6"
      },
      "source": [
        "### Initializing the DQN agent"
      ]
    },
    {
      "cell_type": "code",
      "source": [
        "agent = Agent(state_size, number_actions)"
      ],
      "metadata": {
        "id": "23xtVBu9eN4W"
      },
      "execution_count": 22,
      "outputs": []
    },
    {
      "cell_type": "markdown",
      "metadata": {
        "id": "E8v0PtUfaVQp"
      },
      "source": [
        "### Training the DQN agent"
      ]
    },
    {
      "cell_type": "code",
      "source": [
        "number_episodes = 2000\n",
        "maximum_number_timesteps_per_episode = 1000\n",
        "epsilon_starting_value =1.0\n",
        "epsilon_ending_value = 0.01\n",
        "epsilon_decay_value = 0.995\n",
        "epsilon = epsilon_starting_value\n",
        "\n",
        "scores_on_100_episodes = deque(maxlen=100)\n",
        "\n",
        "for episode in range(1, number_episodes +1):\n",
        "  state, _ = env.reset()\n",
        "  score = 0\n",
        "  for t in range(maximum_number_timesteps_per_episode):\n",
        "    action = agent.act(state, epsilon)\n",
        "    next_state, reward, done, _, _ = env.step(action)\n",
        "    agent.step(state, action, reward, next_state, done)\n",
        "    state = next_state\n",
        "    score+= reward\n",
        "    if done:\n",
        "      break\n",
        "  scores_on_100_episodes.append(score)\n",
        "  epsilon = max(epsilon_ending_value, epsilon_decay_value * epsilon)\n",
        "  print('\\rEpisode {}\\tAverage Score: {:.2f}'.format(episode,np.mean(scores_on_100_episodes) ), end =\"\")\n",
        "  if episode % 100 ==0:\n",
        "    print('\\rEpisode {}\\tAverage Score: {:.2f}'.format(episode,np.mean(scores_on_100_episodes) ))\n",
        "  if np.mean(scores_on_100_episodes) >=200.0:\n",
        "    print('\\nEnvironment solved in {:d} episodes! \\tAverage Score: {:.2f}'.format(episode-100,np.mean(scores_on_100_episodes) ))\n",
        "    torch.save(agent.local_qnetwork.state_dict(), 'checkpoint.pth')\n",
        "    break\n",
        "\n",
        "\n",
        "\n",
        "\n",
        "\n",
        "\n",
        "\n",
        "\n"
      ],
      "metadata": {
        "colab": {
          "base_uri": "https://localhost:8080/"
        },
        "id": "AtnMrN_Aefmr",
        "outputId": "76241c30-8457-490c-a1c1-1e196e60737a"
      },
      "execution_count": 23,
      "outputs": [
        {
          "output_type": "stream",
          "name": "stdout",
          "text": [
            "Episode 100\tAverage Score: -139.68\n",
            "Episode 200\tAverage Score: -79.27\n",
            "Episode 300\tAverage Score: 4.24\n",
            "Episode 400\tAverage Score: 100.62\n",
            "Episode 500\tAverage Score: 183.31\n",
            "Episode 533\tAverage Score: 200.45\n",
            "Environment solved in 433 episodes! \tAverage Score: 200.45\n"
          ]
        }
      ]
    },
    {
      "cell_type": "markdown",
      "metadata": {
        "id": "O8CNwdOTcCoP"
      },
      "source": [
        "## Part 3 - Visualizing the results"
      ]
    },
    {
      "cell_type": "code",
      "execution_count": 24,
      "metadata": {
        "id": "cb9nVvU2Okhk",
        "colab": {
          "base_uri": "https://localhost:8080/",
          "height": 459
        },
        "outputId": "aa6880d0-d4de-4ddc-b09a-58d867da60d0"
      },
      "outputs": [
        {
          "output_type": "stream",
          "name": "stderr",
          "text": [
            "WARNING:imageio_ffmpeg:IMAGEIO FFMPEG_WRITER WARNING: input image is not divisible by macro_block_size=16, resizing from (600, 400) to (608, 400) to ensure video compatibility with most codecs and players. To prevent resizing, make your input image divisible by the macro_block_size or set the macro_block_size to 1 (risking incompatibility).\n"
          ]
        },
        {
          "output_type": "display_data",
          "data": {
            "text/plain": [
              "<IPython.core.display.HTML object>"
            ],
            "text/html": [
              "<video alt=\"test\" autoplay\n",
              "                loop controls style=\"height: 400px;\">\n",
              "                <source src=\"data:video/mp4;base64,AAAAIGZ0eXBpc29tAAACAGlzb21pc28yYXZjMW1wNDEAAAAIZnJlZQAA1Q5tZGF0AAACrgYF//+q3EXpvebZSLeWLNgg2SPu73gyNjQgLSBjb3JlIDE1OSByMjk5MSAxNzcxYjU1IC0gSC4yNjQvTVBFRy00IEFWQyBjb2RlYyAtIENvcHlsZWZ0IDIwMDMtMjAxOSAtIGh0dHA6Ly93d3cudmlkZW9sYW4ub3JnL3gyNjQuaHRtbCAtIG9wdGlvbnM6IGNhYmFjPTEgcmVmPTMgZGVibG9jaz0xOjA6MCBhbmFseXNlPTB4MzoweDExMyBtZT1oZXggc3VibWU9NyBwc3k9MSBwc3lfcmQ9MS4wMDowLjAwIG1peGVkX3JlZj0xIG1lX3JhbmdlPTE2IGNocm9tYV9tZT0xIHRyZWxsaXM9MSA4eDhkY3Q9MSBjcW09MCBkZWFkem9uZT0yMSwxMSBmYXN0X3Bza2lwPTEgY2hyb21hX3FwX29mZnNldD0tMiB0aHJlYWRzPTMgbG9va2FoZWFkX3RocmVhZHM9MSBzbGljZWRfdGhyZWFkcz0wIG5yPTAgZGVjaW1hdGU9MSBpbnRlcmxhY2VkPTAgYmx1cmF5X2NvbXBhdD0wIGNvbnN0cmFpbmVkX2ludHJhPTAgYmZyYW1lcz0zIGJfcHlyYW1pZD0yIGJfYWRhcHQ9MSBiX2JpYXM9MCBkaXJlY3Q9MSB3ZWlnaHRiPTEgb3Blbl9nb3A9MCB3ZWlnaHRwPTIga2V5aW50PTI1MCBrZXlpbnRfbWluPTI1IHNjZW5lY3V0PTQwIGludHJhX3JlZnJlc2g9MCByY19sb29rYWhlYWQ9NDAgcmM9Y3JmIG1idHJlZT0xIGNyZj0yMy4wIHFjb21wPTAuNjAgcXBtaW49MCBxcG1heD02OSBxcHN0ZXA9NCBpcF9yYXRpbz0xLjQwIGFxPTE6MS4wMACAAAAHVGWIhAA3//728P4FNlYEUJcRzeidMx+/Fbi6NDe92RHggdr9ASyl6a2l+Yd/fa6ComUORZNimUHj8GIXOow2CW1er3d8FnOMfuzUwh0Gyas974NJq/3Ztx98lpU2PTaHghHSCxaih0DUzzVzDO+mHh5ZU4q7MwTH0pyGvk+lbVGSj+HpXdPjCWECYOjWmaQPvbmORToqy12/rv3pPDqzMRpgpXipqpfv8R9uPy1CbjynqHz0Vf8qM6PQyyd2wNGqt8UgEdmg+GFWqvEv0E9VVvy1CdZyHDpq9ZtAwKBAAAADAACiJni+oWTE6U1d/u+yNj+1xGUH51TVyZv+TByb39Kt4umNLNmoQfPGtocb/LAAGwAKcNIzN/TzeAAACtgjkSRE9YPcLaKEKsNkXQnBXC7FcNsDj6w6TTMsYCKcwu1ecBJSJZ7Cfrty5Aw/52RLa7sh4B35kZzGO11iUBi4CHWnC2IhyGIsOhGvBUmHo3I458XBeL+JDLCnhgwfMc5vhuP+IN2RuyVm+dnWbPBk/EYUI8bbtEpPLy2izdIIrBCI7UZFyU70mN0/5QZr2N98Y+miqZnUGIpTeB3WGSmja36uzPqVUPEJKh4S1dbtkDcm35C1Pw1pj6r9BdeUydBPyEZvzQN67wTg94EAj9iEkfeMzv3txanCwQQga00rlVB1DO+1FzNILnG2BPapsSabvYmzQVgIpPnFdfJBcu9XnDALvCjAvDLiB2/3WLVJ9C2ZmzZkfK/A+0WF4s+gOyi9Vu0uuHwr4l2wRzFyS0z2z40LXSJ+hGUQRaj1iv1Vzv5HfPGq6zOvQ6FY0/Lc9Jso2/+nTnyhgaTAoQaQRlXeuOu4HhPIpinNONX/SferjsG5UGGT7K/47O91If1aNQEVz7JrzM4pxjomhILKPascV6/EtjiR89G/zZzYchwQ+yrNDIbblzd2cWy6FQQzhjxLw5G7MSD2TF9d2yH02e25G6aSD4IRDHJSN2APAH7nVYHkoRYesJoK7a7ryV+XcdhFRwNdc9uEpe9jzzF6IrZ3Bz2Ymc/pK+zCcAqsvs6AV/8qjt4UrH0oepLTnNLk+spWzGpOYVFgLzaj8Nltr5Dtfm6h7Sjv2ATb2cGPTVW0Jl38LLPk/5Ajxzwwo1Oc35beLhw8Lp09voVBLjVp/A6xiWDuMZpuTL29PfAYRmdEovQKm61DVO9xwTcy+QY+BhKnpSQF/Ks6TkGsMqyplf26ahQ359TKFpwdLcHIlqm9JNaHxwvBKmADux3IcuLbhTIHkG2K6C6KmGC69Ns+P/3UYVWXwyF8TDsFZwaVXdoIJqiFDjCDes/IxxLA3TbbZCshj6iyrULN3No25yXJQsyfuZIHm38c//Y/nwxmbkaDOPUGYlfQe78UTvGWBExk5ClLbXStq0J/dZnC7udHXCSDfjzVrjYNfAJ6PoPww+tIoFCFbQ7a5HLtyw0R7lBz/yOR6LJkoD+2aqqsKX3224A9UgMuml6UZVUnhFl6NBjswNk0NzPYtr8V3Cmb32vp8NCJguEaUzewxr0EU/8aH85Ppyg3xS+Prkrtr+E7Dnclpfae2eLX6LNa4UaHNVDZECH2sHib39YVYt8kdLwUnbTbjszz6M7o/Wlg7RJIXI1srfnumMjRYJS/zFZknubiWGFVA6mihPGLfDjMxx1anYGk1aQyT9oYUbAKjJMaPbF42x/Wh3a0qAAAAwBq2jEI90U3///9T/gb9X/uRnD0f1kKAJRj94m3bt/0/a9Hhh1YlEOnMEGImtiiClzLsRLlE3P/5H2fdJkl8Z5DRFs7L0BqagE1IzXrzdPX6nx9OB5pMFyeQbClAcsj5WACL4ANaeFqKXMxH8p+doRGzy85tjv+RldNXP7A004OXbJMZEriS4DuKZ/DdKAH8V/T9FbKWXZU0lHSp+QwB1Asg8yefg4bnbOPAOW0rn0F6PlwDs/Budi1z78AeK9pCLmHKZZYllBI4dAxw+4BMxxEsf2QOUysIDxMXVp/zzuwikZOMMn3G8xe2guZgy+uiB4LruRZlbhw3U67mWS9dq1dSQv9iXNuz+AA/yTHiS/MT0fsdR0Y9qcyPNP45gLvrjRKLiLDE1d1R1N8TZhSH2EpxLpqSmRDdaZ2SlVf8EAaWCLT9LRlVPQVWnpTMU/8Bk5A1653zTEHpdZffS1UyQx7kGJOOJVYZUcoJOJNuvd1D/7EjfTVrB3heflHQRFiO8cj1NTyDDlVP5Pwcu6ug8y9Gzt3FCWxpfg+/O4mGZopK7whhxg9IwKTNkiluLOOlzMl1wHzAEcTHQHhdfua9s3xKhElTybnzZpJx6fHhp1MjVkIqA6ksvWZhY1RaOYNwI83t/TgnocWlkIiJHmUP3RP4epW2d+IFk0TH9PKwPtQMABEaECmgAhWpMs3J5AmjwRRgzp2tUKMPsOd9KGuV2y5gbHke6Ytt4Wm1ZdAhvthaLHrTtjQxXA87ebGPWsoBnpnNhT1lBoUahwQAzsAAAFJQZokbEN//qeONZAXBIUtyXdWMNlmNavuVnmHtKvcmR9oV/FPzEbxZgzIxxb+CjYI4KHHVpYiWnlxO4N5kHWw52gY0h8Xiz9LQbC5aBDBeFpkPM7HoKVAagu/vqZkyxmX32+MWDWb+5nE1PTbVZPbng+innONy5MrPRqrirARVXanBgAAAwGE10VtOQbbpNFDAImFVW0nEAoX1jbbUq68FZGo+iEh923oyKM7WGM3b7tqmbJz/6dikSPTAuERAbCzWutbw8f2tdGRr/LHjtvNgAkf1SEI0dp1N4Xvnqw+yNteuIZ94TAnpW6p2F+gdEbq0MMoQJYOnomOsnJX4PgdokogW0OmJ2U3O4H/8qy5AtbInASbiHVK+Tx2UJPTyamjNeJpJNd8cshtBsZd+v+a3zEKE8I4De65RffXKR2ZALsXWqWgzhfn05UAAAB9QZ5CeIV/C+H9upPzmmxbvAB+digOnS1wwRmid9+o4tfQ/UobgAC0/H+gwcvlr/AsxX2/nItXdtXzhzYNFRc5Fi2M0Mi1dm2BOzBuiLIVCAU/bDbSmSkMNFrVXnAAgENCvLAIt3ih8J1y4c1MTaLtJgAEE/nQpwhcr+u7XkEAAAAxAZ5hdEJ/Ddecw9LM0UdMVbbNMtt26en+w13Z+uPTcAGSsEsG9QIrtNzR8PRIEF47XgAAAFQBnmNqQn8N7TaPAhxYs2du02AEn6duOcfvIpYPCyoARZMHdlCpi9A5Y3DAWUjqdBsOHZpO8VWSwgefDS7rhtzgAyThYmLSGPlEeC3jFkWYn+VQwoEAAADyQZpnSahBaJlMCG///qePcJ/wAxcwS7OTgATQXfCYOCtyV7CbwvWav7o146eNPNe+hgsqKkP4Y1HfbjC1x6EOumdgdMS/zKbNVz70z9qPTeXwmSXpPGuEYlnT9nDyJZVswABBHswsUjtvRiEBVHp2zwfxIzr7GdJw8Us5ukmgITnlXfI8zWadBO9gJd33a1OQKWC4Sdd1y4hoFN1NX854OwFEKN73oNxowdUP69EzFI+av7SDyhDJvEmkPFbt2pbQ1WFAeDzvCQpVKH5xKab3F2nHhbKgBEeAOuLKOwvp1J2nywn4O//frPLxHrtTkZ2dPpEAAABqQZ6FRREsK/8L9sqqj6RwEbSzAB+XqTy4OpapiIcPXGvqNAd+ySyIz7e/wLVK39M4v6Zz7e3c2ZP4vm69WSH49P/Qj9vzQAiuTk2o0Mmyrou6oCrtfe8jq/bk1MGtJmRs9t9AIslgdpmC4QAAAEwBnqZqQn8X6w4BoYo1S1CtqTVLylak4QLkUP6/1KUqFRYuIupPTp2GX0iDeOMBCC8BocGrxNO+9cIsAuylItl0DaqmU7GfETeSoW4nAAABfkGaqkmoQWyZTAhv//6nlmPtxH3u9nACazbpygCMY89uFfvItjCUwPInNbQ2XFv25MDqeOwShbPdSeKEqk7wic0bRQkbA6Gu+xqmyyKef/xCV+0rrHbkWzc6GqBHJkcfKp3I3Q7lFOCrSqiEt32+FnF+hWON7/NVh8hiULzwzkyD3EvMehm2ZLYbBkn+NkuuSkww0qb8ElPj53bvkeDv4ZxSKgd5pEmBdqXIjx0Jdf7RbIxGFuPNFjxF0HlXwFVyWAGPYZkhPPmnCnns5a/Pv8k4MZMvxlBFqYPVvw55ut3QikCjCoDtWpxhSWOc4bhVZOqd3ajLhrOmygFJGEidvAgbxQikWdVgdP5C8KtDJtcDci5b8AVStYc8BJ5x1HE0g6P5cF9uEJ6Y9kebion3S509eCEZAHMUBoCpTCjHk+KPMQMbL+lBll/KNwEpZd9P0wA23TZEzceLWronSMjhaV8E/tAWfLNFsR1LxGJ+JG7Xeb4MKs958pYVkp86p6QAAABZQZ7IRRUsK/8NdVaF5xqjLUP2JVhEJytaPeIZndiDOr3LOHA0AH9sE9xUrGC0GFBRQkygqTMwJYT82MjssBW8+6Go2wajCdn2YhHADXqabpO/V18O0BQ6iBgAAAB3AZ7pakJ/D5nwqiSVzdAyADjkQvwZGFelcb5WQLlN0iEYOhJjOVzd0JIlolIBxyn11d1Wm8kfhbz6ckqt6m4VtqU1qFWAkrgy09tbmgznvrXh5gIvsBG++EjT9Ag6NwXWsr4U1cel7P8AyUFmLZwxQLwTx5EAUkEAAAGSQZruSahBbJlMCG///qe29ASABOsKLaNgamCuwge+F54lVlYHwXCYl5h1SVeOKaeQgJbvBBoFPknvfuSXKAEhGtY2zAgCGSaDH4P9bIic2uo8Amr0/bLh7DpJP1urowCAWhSJD3L1FNXSc0QtGn0HfmZfAS2Kxre87as3eTrpobsZwt5XuLB1W9Bm8e7Poue47PD5PRP/esJJls3nURi7516hZOW34E0RmhmKaSqzOP12DLSGR/yZRaGVg6zJXMfuhS8Jkaw1gWJy/uxke79KexkpM0eCxBGF1xcFc6EqJzsm4VwTRyvtoPl8gKvcYX+WESlvDOyR43o8BiYhRMSLrTInOrfuCdyBAf/VUm/chBXUbB1iQn1YwN593wMHZb8wiR5o5efVPs6UpchGBfSzh+qboD3rWCnzpYtjHgbWAmAFbnnklaG0yK5RGm3p5jkDLXQl0loROhn1bxSTPoG7C9vCyzMaEAFNpu/d+3X5Dr7iq+s451nBviKWbdl67vAyVXKcITy5pLyO0G+5TgjxUgVMAAAAuUGfDEUVLCv/ECwpbQ8ETcAIziW+i/zO2jNFbuHyxjdWq8oenw4jjBh8g6obxuTlPD1ybucBJ8w+ehCBWQJsz9eTzAIiVNkoW/KPKry765EWkfolVVhYiQsX2/zePXtfjOZPVNPhEdpSA7FcRknMu2w1p8COY4N44DNuQaIf6p6VKTzh4beijyx1thvzrdT/23++6UAziRVge9ZbEGQpg3wK5j8n+Qyk1ViPVB2v2sOytqtfMj+iZ5wOAAAAkwGfK3RCfxRIZO/OAEeyY6S7Au8WKRsDo40zCKow7VkAem+8Y0ngipf+E0Sg8loBfuCMcaNRHbSwjXCKxr+rjypM6u99kTVjAE7UumYT98owKt7F5en5MsJgXQHRSdIn4P9T4YSCyHjac5Vjbq4bzi3oq1nqSXLM+1x+bIjmXwaeUuJhcTuiAHofYI6l3TSAwYUCTwAAAIQBny1qQn8X/FAAN5zXEufTTgbf04BeGFKbyafH/0G9mSkH7Cb6dcLuvKGlI0F3o+5SQIaB5PTxq0LmkTBt/+2nLLrxTUtnAADXCXxfUZd7wVqSnXVEfx36RUPLtAkQgViIviEM8a2J2u3Aj6/69MDVyb17T8HEROaxCc/B66K/OxMQD0kAAAE2QZswSahBbJlMFEw3//6n3+n1IAcY9/iIjadey/hRz4QJYgLpE8Bj0rrhC8cczjXUEyCtA8R9xBhYOUzYifmNgm26ipMJ8eGfMGjU5TNS3Sd7wazB8Sca1unM8Y5ibkM7pwSMfkZqsOHjHgUv+4MtkgjOG6v00b26H9RW2C0+eq7RECzbEfJGzf7Bs396JdIcR6J+vDiucctHRvSLn6WAi4zmpJOpyUi7BbpY6BcHoG9B8B1QETZy8HUIV5w3YUElCOcSKWHJokLOCt7TUyivnYdl9MBLWuXLD38prfKTPZusWTUJ0aEE5DZ4CiXvbLGtP1oXzvd+PSQIHOdJwptTwE3AhaIQTQKxl2AmHiAvdFVG75/l4CsNu+PZ11NoADsQV0OE/Ou66QIaBoL1ZhRciYL5gABqQQAAAKABn09qQn8XdHdABf7Hu6aCDLeBFiZfDBC20vT3J1WexTPwnrHNWhYhIJ7R2k5jCo9TuZZS8WUe+Q3CJyU3Jdhz/Y6VSjCmKtup6NNa7KPe+LjzPbdzr8owHa+Sz2HKaFV/SBVWLoAUtyOgxNEC+0SKk8qDZeA1B3KCjByd7Qd8GT5ZoJXJAmaaFTtTE4UMmzFGf5uAO4pZyVrwqtlq7yJgAAABNkGbUknhClJlMFLDf/6n4L50wBX+RrPgnN3oOvbODaXF0krjeUd4zsLHLU4YIpisZVr8Iu8eYCY8brb8LBeBnakalodVTSiwoYIBixPGHOPcgPP6m2wy63MPqW8jbk0hQ5Ralc/oyRsvVbyoE8IbczVAcn2EKD+Mk8trYW601cgPr65L+VGcpWtfqod7vNTDwSCkvOPdaPNftwxtYJs2vyl/AYRQqtRjNVkLDoV8g6pdCBsiAc5h8JoWDPFOfvIOB+irbtOM5PJNtNnZV/bDUkCSVkIPIEREy1a7txzEfOHO4XwHG7/OamIuN5NRbFnZIZ+1/y5UiXrO4gXjTSzGvRLyzE4H2Hv/IQXmMuJPXkABF1w8a6ti7B8W9zILKxxCzdPadLH8Eajq+aiwlVw4fEXzaytgAj4AAAC8AZ9xakJ/IPt0AQqy7nTGNi9hNWLdjMTuS2JampFarQAKEPYw3hT02A0dsPyjq7jxfcW2YBh3BkYnzYsDS9I4GLmKQEbWufrSwqWqlPzp87Vjphj88yVMLR25y/rrDgGy8lbTMOVlfHsRWuue3cM2DIU9UmJRmnzXpzGCVuEd4dDiI98xL7Km8Se+QlcPxSQE9wMyhOdgQs46UWHRL4xulb7WiqwmrFiaDA6TrhwTbCstYQRy6ncjOMEABvUAAAETQZt2SeEOiZTAhv/+p4QAws0GigBG2h/VgB5xQOeP4RgTsjg9MSFsAfAaHDSRYgeQOuHiRvvgcAVYdWldrkFG8K2cSHsmT+hiVNPRJsFzYegLcemQEs6yd/zSJGkIVXnWvc772tKMYL3Ryya+8db+EteZxffOqobK4H8fp3vhPLsRYU9QqvKCknZFiEpb+wmJ/xqyF218tpbujAqc81gAXGsQAhqS2QNYQoJJvOQY0W6w1xvYitnvTl2qMze9Zez/ywEC/iQoxMEFDS5oGoXobHmpxojiyFnixgTWdRmYSotEeJRPgwMUpMcvew6y6KF+2XGiPPcENEyoEUqdMV4fZzhzBr0nFxBLbCzfrHwB7/2ANqAAAADOQZ+URRU8K/8FEkpDLEnFteM2oKAENz7Lai9JeB/kRW8lgsMLT+nf5pjCmf4VbycO2NnFFLZv6xY/WVPIejmrbD9UZDXnTGBxYbPLPDAD6zYP9qb9qpv8UdmiKf+bNXS5A0E4cQ5+ZXrNokvY4FDPnQfkcVLyyXn55O8RyI7c1kB+vQWpCbDmCNUQJz9QzxSuZk1U6OFV4NlnyzaLZ7fDw7bSlNyxcmaeWaz33w2PaTtOhtwscm49tv9gKIlfuGRaf4mLkNUthM1gY2gABbQAAAC8AZ+zdEJ/AMlMPcnABwPTuT34fcf7WR1tj9h7pMW240c07Ipjr/dTQ+0gmcgjIYP3AV9M3MOaJV/tBDzKxpAfN0lMWcaiF4ENRf1ki3U78tdpxwzVp+RMxX4WFDGhSIYaYmnCF/bP0ShB3ttignA+7agUcXQeaEoHcPUNTCHEPHjCk7cpEKCD5Puk4rB/I0oWl05RzFMXzfifiB1rtj7qO3punnSV9Gpas0ZXrLTiGnL0WhtK6W5kuE0YD0kAAADgAZ+1akJ/AMwyWOCwVIAcr3GaF2zKD1KIYYRvY3l16gHyFX4WQSjtftzm0aqAtKez3xsfJTnFJgApukMfjCVMCFHQtENLLBZr3x9bZy1WZHq9vV67ugC1Owwg4PEjc+4VbahaFnjgBT023EWSjf6xvCpti5hul4GEb0ROirLMeqEutmOH7vkeRnRAcSIXMk3dwxkOTZKd0mCasZD+1f5xKwQSZUhjiztINmDOEnHYZFgKnFPXrosSFID3CEdTzmQo7tOugabjTnvUDMCBUcNfvFhJhX9EhWeAPHyXs8AAMWAAAAE3QZu4SahBaJlMFPDf/qeEAMLag0f5ssb/cAIQQ+enkScK5/ZZfmWvGkqBAARqTdz6z7pBhJoBUPoYjMiVJGjqZYI+WkwW+wblWnCA9QyuuRf7icNdYjUCZ7w+MKraW1esK9g+52zlwp/TNlTniRh1tN6Iy03DdmXn5Ak+Ex6QMpO1Cd7m9MWiINSj8dZbQy10IyW9vec9bALHFyM5axBum0+EU2bQnTkmjknRbsn9Y77sQH7j/Y+hCQlgsS040Ju74lZCbE5eIqXwAB7zhqJplO8BoofdAmxNvMESLV65T/Nsv1Y35ILKyoYvmvVy7F8eBILCShVFUHUsXsaUkpCEhwUqiFaN+j8bZ0x2zl9O9oUxaMim/4BJdYjb2xkbCXJSKJgSKdInUGstjnMDt2jfY2wOJn3l4ekAAADjAZ/XakJ/Bj2/x9lQdKAuolNxi1YEABwKHVQo1EauZMubIa5PeTbSOrU/Mb6KTifVvOzJRBw7EiTPQcik+0Lc+Q0+B48abqw3j1KAeVAUrguyIn65PGXfJ2F5qRpbuwhBF0NCPtRtfgWanRu5woITzTPYjHJ9JHSNf1CBrsjysu0iT0dHAnWIJpeoLuC3gYCZgLZgXozMvAjYpyjQV6ED0qa0VwqH3mwK5U7oOBSDBmyQrh910RhuIBE8RShks2iz8gfnOQ/CjsLbLW69VsnzPL65j/mUGxym2ENuCyrx8InGAccAAAE0QZvcSeEKUmUwIb/+p4QAvvvCnxoKLct52OdgA/pB+Ybe5QcSfEn2g2AIk/jDkeenaPPZza1hPxbEhwJPwj11NZexL7MyrDLtdB+DtPwz13qD6JEozVNAS+AEe5Jdgo3GHI/RJ7PkKriW88ubrmM7Y72CY2JrQBeqQxMemTp5qWqs2LfOo3W3ZtcdzHFBywyxSB1tcCPDR6SwCsAaGepLk2pp9X9AV3RgvF4+Rzr8BUVhImLcXQQqV5gZqnZmSWZgSLAVIc4YT2SBipx+blyWu5ui97MRlfDJZXAeCtVnMpHRd5wtoKMYtg2//vrban9DiTWRflR5vlDGOx1b/48ptNPI204Cf/+owi7ha0Ax635dMd6jJ4s3vAegfo+Xm8Q7o2cAEkLbStOEMHjHkKZgdwLWArYAAAD8QZ/6RTRMK/8FEkpDLrMdTVfhXih7MYsAOC0Vo7baHvC69ab6Dq5XRJPCUJwoi2lZSklYUH1X3moaN81ts0+t9HOfcfjZNT/Ys9aUVokIN1OqA4ypZEzu+Yrt09cOSOEdJRSxiiVCquXXExyxc4MBGK1Ky/x75x54k7Ec+3LStakmMyAVW/Y/PnNaIVkEiH8uHZDvD10X7dF/nN9ORz7VbhnBu9m5WrB05qqcesBqBL8fSYB1E7b90aUBiLqTgr84AmSAeeVyzmspyXQJGrDLdYW+wLDi9EitHK1T2c1OP/tt+OtFr+/o9HbmqOI6AImgv6QNQqdjLnmyvxvRAAAAvwGeGXRCfwDRCytu4oPsd4AFcyOMhp3Vc/8QjdmMPMTogGrJKOxPEqUnFdtzasqxBaexHfpQdE/tLVHtWGTz0KlwnuQ2otYm7vElS2nNXLJ0LmkaRt+YhcssQkO0tpoPtdJfYYmPgvFeTk1Drub8KVMWUCd/1A/yZnCo8AXpq7N0cMZvd6xO4KFWo9gcjgIBR14dHT2EYlWNjiDQuW3DbL9cyeaZhwHZPbqbYl6lYQLh+I9Mkm3zZVu9GhNUgAYUAAAAzQGeG2pCfwDYvuABxPXMtSVL19ok7f9F6wkuM0tRBVx/2SLghbD3LREVoafZWx1sDgaZ16Nw5koCYwgaPTO8LMuCEyXR5avFYW5mToPheUONLBb8wIb04zxezmbayG++/sVOVbXaiRw2YfxpKTSjhuvtQv0sYh5gpip9T8FTk3bnK31eh+7JuiZ/swW0ZT8/BqZTguwdUz6TS4fF4EyYeBxhHgx/3aRxNYfPsfFsuY+7Ks0u8ehfvDz8HVxczxBDQ+ZfPDMWd0EvWeAgAVMAAAEoQZofSahBaJlMCG///qeEAEu5B8FW/uAFun+7mlKvaqIFzORhosywiiPrdidE8hQHM+NG7rWzV4L+qtPlIl7N0aD43EkJ3Ib8M9vnksefMDgKGUI3R8r2ciQdUGAarf2y2YM7Jx/KusKFKn6XXVQzxSa5rK91ckwybkR3YZHCvKBAeFbqBDq1ZVEei9XJVHbdv3Brnbh+NDWEmsZfbDXrG9fUfX3kkT0TXP4j4ZLIGZAj/QBX/MKx67aNGs0OjQw4KaWqVODH4AszrpCB9ZzObaslW8UvvOumwt9QmcBr9+TJ8YtAS9BQeHN4KiUeH4LxF2v/KqP9fkXfH0NxNY6wRLin5Fa6CmLjeoFtKpuECFGdAlnHmEl8hv3y4Gz0bccFLalp0J2gdMEAAADZQZ49RREsK/8FE2DzK6TnyobrikXYAFrqiJtYIAkE/6uTV3igiqXIjg9Gx9v8zrLuKiB3iJ7ZjwMsftNyRv9Tc/A5u3ZqYjBk0zJpAbw6lGOJO2DAp1/MvAaPGBrPgGk5NJ8ExyDaiQ+OvIQwhiG2lWcYTzavFcMET595oONThWwaS2FTGVFvkjgiZPy+b956PrJh3eg/NH+wTWv7Yay6TMVnLtfwiL5fPt0Y+8pO/pbw1qbvx8TbP0cJqcelNKWwnpMrgDeehbHyracnTFgFT3Bm01jMMlsBvQAAAM4Bnl5qQn8AT61UFwMTokALBOA++UFxfu9gC3ZCAlfhMwOeZyDDxWL9HbAUO5AwBY5XP+AyxLPpMGk6sAOTQIYhgHW6RbqeLx6U+zGLgCwo4+qfpVKKY2tvLYRs54a+H9aCmraiLmOxmyuT5Tfq2JAyOOiywbhE0cVUh0r52nxPawuHz0uFEqenvqFjD5Mr4CwLcj5xHfCa50LemWV7nVtOWxtu5jwHvlceS7j36ISSXeu71dkA8+toNSeNPt4piYoA6HyCLbW5/8p48CopIAAAAP9BmkNJqEFsmUwIb//+p4QAS75Gv2PCd3fQYS1t2lBxvsYwjYl8JEj660nRXjVpUvZgQ2fSDWtbV5AGyLfuI1Z4fi15zqZ621Y/NDRG9aTHERxybp9ABFV5G/OiQ+G8NHYFOvXOwfyWSVGWkX/7Fv/9lNGDJAzr0aGzxxHnBFmSOLMMnBehPvA+Cg6/n9tCEUCPyRhW5PluYjOb0Yc98Zak6YdebawHB0E/9dKwVrzrgY8UK3rRZRUmahl+GO/Qw/Q9dT91mH2CIpKAnNb0DQrhFTSFXZY5mUBNHl1havVpYeFEAEGnfwZZpFuxv5n3NRmWisl6dnZsWjLuYhmQBC0AAADPQZ5hRRUsK/8FE2DzK6TnyofEd8Eh+MAHSO1hUI4qD+fYJ8xEj5UeDrmNlzOZYLx4oMqezdvP2aRKf7kL60JmziE8DfkNcXXFQ5iMrNoJpPru+J7ZJKypUYCFKUGO8fLePzRfPlDfNiW2PuG1ob0iqRqmE9wOCZT/qH6bwyZmRxE0XEXh18H0RHNPYrfATS+mD80qfOxTwRK89vqSTVnLHAYrRQ1dq92PaEyxXCEsq0rIUCdsGVD+uOJLv9IPdhFbV6tE6Lsxgwe4tmK+gBdwAAAAjwGegHRCfwBUNLg5ADoFVq3xr8wm9XO0SFJHl3MQfefxywbD9l+tBMUIuPeAhXuxJLzbW5O99pRfX8Uzs4Ct1tmHXxGuugWDi5Fc6TVfmn+zVvuTEmm3JQ9Wz3G3C6+5i7Vx7trtV3BcTT9qaGRlVjvIQkIjpVP/AIlvxRxtbRZSYHHbYDuQPSXhjtFkaAh5AAAAmAGegmpCfwBUGd9L1fwRZdMcbDJgrXMJ25+AQHTRmkonUrfw0ZAk9kc7OKMzQITm4l5lpYI2lksEyXumxfr04dk8vw0Z/Qr2tNgSrasGiVSja+328gOP7CwEQIRUaMV3i7eSrhVwSGtg2YikqSPkfzxlOIXu45EOryUgdzo9RhrvlgPdY46vISHkrYvg0FcrKBRU6CwAAMqAAAABYkGah0moQWyZTAhv//6nhAAKNxBCACHvDL9rSolw2+5Zksm3pQ8VtiZNdU6/Q+0h2C3n70ZFrycWwRgApDfDQUdJ1dsoQ5HuL2V/HyQHXHYOyy9KM57g6/ZU3MUd2W5Z5bMNAmRKRL9H31UgsrCWCV2I0gClSXbH6SJK/byiWrIdbOI3AF3okc+WvdmhKdY94qq/nxnj2ES7dVSoJGnD+pCfljedwl9Tb/C2dp0+W/vhzlrUYwE8vdyWNPbgANF8CI3mwTwt+uC9E8I1UgODJzBESZ6Yu0vXjUL0t/yaur2hwjtFuUtHKLRuH4IVvWrY9rd0o3ntoTzeY717P8X23uchI5lt8rXQ91mlhsFgTV3KvYvAS6odsdnXWp15BVdDDysFTQcQYA9tQP7jPBruP7CaP5W3vUde+Zue9BWM+aiB5dC02EcTpPrmEnaNuov/t2pfjoW+Xa9NpSl0+8gDQGqBOwAAAJxBnqVFFSwr/wUTYPMrpOfKg8iWvE5xmuxRm5rxKxABD89SRNbb0uvDglJlxy7ItX+4qdzIH4p9jWal/9QF0X5exj+0vmEVAXUk6/4CNtuOP4Vy2mTrRw/hnyEFvRNTvD56emHOoN7LZ82ZFNugNS8Lz1hFf0CB0jmEGmcEs06Z2neYZPGpWHVwbH1U4woaZdDx+TNDPy9RpbICA6cAAACWAZ7EdEJ/AENa1MmGZkA/zh+3Xuyt0rAUyIBN0wObXL+28T5IALXkIi51jYobq9wAkRBZo4xiAsc5EB8jiXDBjgULuoCcA27pHtiBKsDApsILDQrIWT3T8+QTQDYV0bsGvXPKVAxqdo+W3kdUAQYmjbzVcuzJyjwd3LsNIrqFK462qgG5g5+wf8+PNtVBleAu3WwGAFJBAAAArgGexmpCfwBDdzeG7tsZ+M9xQQAcbiIfNlm+VrkTiCta98iT3qeT0AoRSWbNvRw14wQLqF2p7Msf/IvHwjTKtcUMmDbyKzrMnkPgjMTVKwpo/gOKJqP1vqTmdr13dBhckcabTnoaBJ+vEJwzMlZ9+aqI8jMcaOG4NYd+iUmWo6AxNJ+YIi0mTT8gVb+HyBrrIdrHl/J0DScmU42/7tTQ59oq8cpAbQzbpn0fpFcBNwAAAR9BmstJqEFsmUwIb//+p4QACke8K3fTrBu44zP2+GR1XVJExhLLVj50BrC7EFJ0Bn9a3kkqI7QBc1xa1/J43TP+mIBx53AkK85q/ejZOJd9QqTstQq7vMBADaUA0n7n927BBjD2dIOm6A4O9QBvi5Qz1KTMz8Ge/zm+yjIPM2KMnni+MxaPvqD/4eGri43Gwx1Iz7EKPEhFns8bgg96xOAjFhaF41iGH9x4H6/NVJn3iHI1vQ1BA75CFFS4gOQh8ObD6RAMeLypdmOnTgtXONtHszaNXEf7DzT0bKY7OBpSUppXFqfOsgkEYmtGrR96nYbFtV4sUHULILV9MytCsFTlOzTM9bUx8X+oEvV9M9UP2qZdA+K6ytD1kuSFhABdwAAAAM9BnulFFSwr/wUTYPMrpOfKg8iWvE5xmu7eGoALDxRozc6/z3k8DGUFw6tciRgS+S58mB4FTAI4QnAHoardun+fRcNbC01HfsF4uHXddm7c2MTo/3TqSqndID0C9okQ3kORDMQ6N0p1pu0C58AOR3SdmY5CdTrYh2aqagsQSzE70Bju0dqB/9zXZLJj13UFIC97YLGqXmWOjtTdpPguhQjParM1D20+lv77HLYCvCyfFiUu/ZidqXGrnGbIdtK7E4460a9VZOsJZgdcNX6/BSQAAACvAZ8IdEJ/AENa1MmGZkFUsYKEALA3bw60XtJ94UMrWS4AdPzQr5Tc4i+UFCRF1u5WuUIY125mj9g1kJTkwx0XRe/oEX79/UPLe2qwlfSHbLuai6e8MzWlXjddqlSRAPl596UZ/7l+AHgGbODsR9nW3Zlr6vmjCqGM7CGM3RZyk3c0GMAsrhoaYAqGYHgT5ODXOmVeP2+ZtVILB/C3MPTGVENLxvtezjYNQ0apVAD5gQAAAIgBnwpqQn8AQ3c3hu7bGkYgZAByeiGXsvafhwgEusTv5tD9uJT0o+GDEIeoHmHGMgGjdykco+DNicl47jInXXilbwqVU6OkU/RccDIydEqLL0xziz3IYnPCZg8ZWD+4AcuqTn3J/pIcrDmXaSZON9AIWgb3/fm+E9ZK9nLHtozRfZNZ4zxJgFxAAAAA8kGbD0moQWyZTAhv//6nhAAD4E0QgAhsi5DV/peudrByWKCBvvOuTlz2cEIje1ZDiYe05OuXiCUqcEsKS8rCbaNT5EHP6JmbWSwEluyd54BL07bolKT8RnV/npokue62kByrbRbRwqlsTjUsoNtPYgMR2shP2CCfAEyjni344BEifXXeR+teCPEt+guia1zBxWlQ3/Zh3M8CmfSaUyfR0T+q/WJ243LT5qKvEUg48K5wy26YLSTHG6Ey7kh5oCdG15GnRvRN+45FsRENTw4MqL1ekCqKBHG5RK2z3EimbdYiNZ+7XJKpAEcV1+BkYUhpQgGpAAAAoUGfLUUVLCv/BRNg8yuk58qDyJa8TnGa3tF/JzW4IALqIvFLmaa4a3HQEtbVrhXBWtfpM9vhBOZzc7LfFyMP6GdjxJkutmLyipdhCdcwdVpZYCQBuQxrD1PNTCCPfRRyO3/KPPFw/+nD149LHACZ54f1vOVRLWBSNr9kzyGnvDrU2hqFQTelgMLNLDDqnG+7d4iMKjb3ft7Y3E0w00zbdCZhAAAAlQGfTHRCfwBDWtTJhmY885WJR6N19QvvaFZs+2LKCYc9AXqeAGh3DAXmNrCQmdFzCU2O+cax/G9Gk9600yhdBoQncTavpfc2rVR3TyLqsjEZZI7nviso0rkstTv8CXhwJhy2Elm3RywuFQj8GqcFDTHGI+GNm08YW8Kgo/lsjQxq5x5jm5kc1TH1zdMJ3A2LxRHQAAl5AAAAigGfTmpCfwBDdzeG7tsX0wMru8AN1w4X7ykewgK7tsvRvXu8eT0tGIG/zwt/7h3vH7dSX9b32xJeQH+5NAdWZ5pV3cD29f/aZgWDRIr84ayrsllxNvo576BCQvMLA/S61Hva5P4i9k+0dREGdBMm0i1Z4KnwNxh8c1JY71T6GRWL+VMBjlrTjkBxwQAAAQFBm1NJqEFsmUwIb//+p4QAA+XsqaMn6YMB5TpdHpArb9Q4LAAiz9fJ50CAa5YaJNuPFMP3i1ciRJQRI3TG8XYDCNQYyF15woLH8wFmGjbvkdkWONekLFzwfDJ0xsFLFbshJaX3WNAdmhidOdPoB1f9YrIwcEA0wv1m9qPgTwW3ds+fQPzYm5xv5dlGWCCbnDSaqKOLgBfISQcxVXVmjUL3if63BpK3/XREqKF3JWban7aQfJBK7g/g7M5XwpQ8waiJ/a6Xrrsrj1Gc0JJtOSo998rKrjpQ+tsI2RfWPzNLTAlPCGbkEyi2m+qzUa7Ljpbak2rorSGW/EKokZoJDwAP8AAAAJ5Bn3FFFSwr/wUTYPMrpOfKg8iWvE5xmt7R8Zf8i4AIJqzd8HeJZwdOZnj6XmYC/9J2Czs4+M3Qnu4O37jPk4YTejIq/UICF4S5SPEz7x4xdNOlPsfebeap83arhzwgQ2XzKd+/30Llg0nOHmeC4YhzGT3tIPkby+0LGNlHScEASlVRIIoQemHOSR8VPnTn6TWV8NZO0CIGOPV3MABiwAAAAJgBn5B0Qn8AQ1rUyYZmQZziNwB6AAoCj6DBbOvK+rSIkeeh684Ajcy1C5IThpP3263Msud8VxFs7mCsqSh83x8ClfZKEEKIPoO6l4dtWZVGurq79MrBh4Ik4si9yThSgvXN/ed8zH3Ok3qOdHsz74TxcI55L9Wt9DfIsSPe1+TjuDnX/0pbCzeJUfnQAEGSJbNnK+qO4q8BqwAAAIUBn5JqQn8AQ3c3hu7bGm1T04YUAV35w+wkq/RhEVJ0rfqQLIbGF+7V0yvFFcCVWVA9EJ9KWc1EYPfxd4PNNyNxtSr5j2AUWZu+ceEOazn1uAbqHAEKZsjl8m1VZzPi2wv3+mi3DiyTgQwB26lqcwS5vj6KFOdTnF8MFDj24Ozm3JVogD0gAAAA90Gbl0moQWyZTAhv//6nhAABYgGSPQpTu0O7PO9Zq8Y4AIfqBbZd1LjnI2TwB/PqGdvvOxZQ1tkDuYZfuAzPwX0ILpmE+PgvfXvFvdMEfYphwOuAJUQa8ehcAr04ofub+8Tldv0JSXnaZcjkit1P1tGVlN4tAv9DhJor+FkjnX5xXDsVJBFDh+QWYPmiqs4UsqpjqWZvp+X6GG7J9J/BvLkPfq5R39bmlvd2BXeON0nvDQ93cF5GatE1VfN9NqDdXPHw5Qb6EHo87fyt+hXot5Nm+6God32o44wNbY74UhsZCl60bID+wh7zxBRdmeDPsMJgpW/RDpgAAACrQZ+1RRUsK/8FE2DzK6TnyoPIlrxOcZre0TbuKz0Drwhppx+WgAC54lr5JJJkhlD20FSP2qd4XSdO0/u2LOXISQt2MsrIRvtQqoXYt99CIjFdeGc478ZcZm7+8xLwEA4ek46BNakAyo+f9n88EqJwSwjQdg3BRhpKdqoSp6GB/JpfYLHctGylPibvS3DiidzT6iSgf8OP6nlXfWzIeYsbSvFNpZnLbY4rID5hAAAAZAGf1HRCfwBDWtTJhmY8+3ZnjK78EFQAWIXmHdkfri3raq4aEJOMWQCC93xpV4ySa79fwDWzHyJ4dwskm4ozHTGIdG4uMRmdCYXXiFgJRW5n791ho2w91a4J3e+qzq2N2RBd8bMAAACZAZ/WakJ/AEN3N4bu2xfNhJTPoa2poFYEwAWzw50P44WU3gKgB0vufwBGXt1IjoIW0ijHSgBE0iB4Bh8ckJrozztXfWBUyQPvBNmjdTFWpyJwffNe1onVBoXc2cZwhBZGfiedBZRACGI/CG+PHQt7qklq34M4lV06VmznvieYcs9HeJxe4DJXIfJ+f0kizRjoF28rpd0luFDxAAABG0Gb20moQWyZTAhv//6nhAABY+ZdpxHm8MTSSMPeeejTKkl2ugXXeejStnLlsZVYrXcNWyCQC+K4SAmb5yFv/s2WFJMSDvSQma4NjZ4VWavnHpUkSnxSHJvuS4rl4ez97mM4YhaHvF89SD4gXLESzbra89LEsIvZ7Z5TpESTUaaYwib++WRksce1ffKSFL8j2PwNq8LZRlbfA5Jne1iqPxhDjD5GmpO1bcu/BW+tR4OsB0mshb0g7fFQ9IUznuR8pAcIRQ6leRyNUgu15IT3vWEpL7uWpQvFebyF2eP9ijGHPEEB6yhZ2wFsQCCMja0YoAip5BgZMl7039GeXUDcEDlZtwT8r85kUy3Ul2jtZn9KuasK9vlRChM9WpEAAAC/QZ/5RRUsK/8FE2DzK6TnyoPIlrxOcZre0TbuKzl2Vh53HiCQDlJElDNMAIwJZsUnj1uGBbTa12qyio+ef3g8ZzaEgA69T3f0SUhPIRYBDlxAyCBQfyV6b0L+Ht0PeHBkvKcZcNHe3bmRfz6dMob3VwYv29N+lAFG7eiHv9I4UuxnJCpu7rSxfg2GaG0ux6+3BeHjhm/1InaR87UQE/IlRBVNuOzMwWgdo1Q9/HgwrOgX76IySPRSkGHyJmp0BHwAAACfAZ4YdEJ/AENa1MmGZjz7dmm/pawApsB1k14AR7iIZgt8bRnPjxLuZWGDd4CZONkPCnCidOdCIwny2eqp7Oq9O41UYeq9mr+Z4pqF21bSSlh9XHd90ba9TdYWoWtBDP9qJhhAvv0Z9A+i0+/3NLNkCUjZPk8TooikjHfEVphqOfnEJDnHI98NQhMZlccq9B+xA/bXR3juB9YF1/tNjmm5AAAAuwGeGmpCfwBDdzeG7tsXzYSUNof6uNuCYq40ABf7Hu6aCDMV+tJAglBuyS56WLfp5r2eKcftQtfHU2hT+QkIGJ4fO2+hJ1yoC19LKueJLf7zLBxPcynEUw8MzzA974ZuniJYkEdI6mWQRzU5wvqWTLIXTpq8Ku9NQNhZRmfEvazsj+ju0/a8qme0yvachGGHlXNWJVzVhYOPs70NkuOgtX/5Q218NQ8M1q2/W1xk9elmNl0BmTH8lUlwgYAAAAD1QZofSahBbJlMCG///qeEAACCc+vmhCcNfJsAAHA3J3bHTz1qOvfhBaO5O060KM05faiNmilg5BkPNiFIJd/RyXv0P0XyPfMuat4XiDK/2NJVBVc6v8vlk1Mca0CkOB7oOcPmIyPx9FsMYoDtT3H56jc7rWtTW2rxrrPce6Agy82jDsfxtNu3QgURQbtuwr4CkaiqWtJEoVkofHoU8d4Rg195ME/PaHSVXArEx/zEOqojPZKi6BoubK1xYX4wcYs9cOi57aQkwLc3GU9Z0XpHYvESMDBfPAHtTmC+in6W6Hpn10zXJCCdKgmdkZpO0PUTMZcl8k8AAAC8QZ49RRUsK/8FE2DzK6TnyoPIlrxOcZre0TbuBgfTUDrhgA9nueAWFivgBwZW70LMuHxHA0e/exRfshYlqN1J52TW7HbQVkOpYpBRGAqHXtm04B/zFE0vlSdATzW+/yC3DTs4oX2oC1F3/0XopNOprrDl9eTGltpk1m/i9B+CeiG1b+sywzrGB6CpqWsO4SBk49TWPt7LluaCi/Kz33A7fKLezLpilf2WXjIMnO+lbndJmXfGRXUaGtMGAicAAADTAZ5cdEJ/AENa1MmGZjz7dZ+hWcr7/5X7ZKXpx/0RAAcWdPEMwVsgVqhP/s9zPfjTbPKdNExLCCTU/NUMXvIxwHkyzfkfzUxZBFGKUscy7iGrXDhwjHNPZxZeEhK1SpcG7Gk2hZRlZtqY157GObHY5tnTw4zO8Mt4MBTgNu4TcAyOheGGPAbwwJ2QGPdzFQyTZP6YkFXyf0aVNUNavshsApm49ugsiV65lgxIV/8g+xPn9Sp1li7PKEj39N7bKXRYt2sFPKFt0XVl4vXqoEZes3BGwAAAALgBnl5qQn8AQ3c3hu7bF82EL8k5Qv6NBa30blwNk7sADgx+KL2tewjdelLNj5TtOaj+6pUre89FU8z80nLTtcIhCKtW+79r2AQhZo5/U7z/dGr6rd4NTxWbG8L786p9y9WI7G/oNvoWhK/Ug4WlNbvW6TEFBNVL6u53O8dQOzmqFqr28GG46FbJ+iwEP0LPauWp27Uvzj9Xu53cuOG0R/m2PAEhAUywK4d9mmD1EU6fYy6P/1WX+GBAAAABPUGaQ0moQWyZTAhv//6nhAAAhqjSJAC3T7c575fQOBpXaEci2ZdM/E40HVxPLfPbGdPZcCerSvLKhHIYgR8JvUZ+5EvZ8KgR2p8v22VapEGOvvnihoY3IHI1Z1gwT5C8kXo0GO7qE5JkoPojvPQH4NFbgiy54syIH1tyu1v4orbnKz11UzMxoEI8lF3JsrO4WrOmhBc7pxdzlD9vauxqsZDzSl8fsThcpzhpDAxKhNdtpSmyCHdtJBP/H9OnCouxHKN9KXiHX5dwmnVmLSEBX7bonLuBTBIbtkXXLmMCU5SfBsDIDlb4VZeWtGyyh2/1W9vCHvjTyHkMvgLQecymwRWCBOqUtrW+491PCN1s+A39nWvH7NWtQkQu5BFz/seDISiXdK0ON/StqA3Qagx12UihMHY89ZMd3JyWQBQRAAAA0kGeYUUVLCv/BRNg8yuk58qDyJa8TnGa3tE27hEThI36peyl8fjKYI5OBpDWENKMGCt94ABcRYbuifMmxjT7Q2gR8y918R9pJZ+moDd0I5wP+DN07ODCd1s6QjZbg1lwEtw36EsqNmfAmMDsF5nqsTeQCsyAp7QpdIpXMdwXR2hynte4jgdDbr8oKAbovr+KOLN/IuxibNxwoEo2/+5BbArh98W1z7TTdcBB2uiklrcLa63yZm8OGx+Hqj0K4fEbXIcaBfjGxJzy4ISUksuE1QgC4gAAALsBnoB0Qn8AQ1rUyYZmPPt1n6ELuofkD0h+cTPGNqe5QI6LABx0NtO6Z63BJCacGjAPmgJ+hyMRj8wx+pnUdEipBgr4d0WQj4628g68SokOe8xj3+v+GckPM1ENguy33LYtI0X3pnzxy7jjKnwTgtQD3Q4+eUdwczNagearEG/66ii8fGMPhkbUOh1fK+FcwjdHBd6p7VSN1x5KWJFlaM1RCruRe0eujm6jTQr/FwXNRr15aJIBf6PiABRRAAAApAGegmpCfwBDdzeG7tsXzYQwus0AGvfpKWqI2Hz/XtR9tOpDzS+91LtIgOSp2amhlSUIqOWaVCDHQmmYnnJsJSDWBP9++SL9u57FQ8zL4K1hRD6L//IvnBVhihmdGpi0wRPHO3tk6WhomoGAKdiVBh7S0PfJNG39Ml3vWZ4bOQQvDF8YdUX5c4k+Mx1AbrTo/70WT5MoaEXqbVlJgtQBsDTLAHzAAAABCkGah0moQWyZTAhv//6nhAAAh3yNL/nxGe3CqnDciawatACSep7Tlm7BQGSV6xRUHPeIP6HfFMWSeKja0+TT1djyOwVG3o6L0RMCyeplLeKDq2xqiW+7hvMpt2TH1Ikh9sMIPhQmQmnk6lzDvSK3lZGgKG/S5AarqTehv2R/nrV90/6VMFASjoJEuQ9bfGo+1TBgmFoVoDGthEzv3VRJGhdu+lURNKxwsbTlihMaLGqcAS4lecPDUwE141nlCZdAxUVwbQurXsy+iPwIXkuSJFeNJ2EPugvalg0VSNY+xDSlIVHUlWGybcVjfNtaK/YQXyYzlv2zrNSha5lVOcXWQeiVJF0RDRnqMAJnAAAAo0GepUUVLCv/BRNg8yuk58qDyJa8TnGa3tE27hEUD3u7eFJDAHpWDpPkqNgXxCqmPTrCyhtlL0a0nqCCcFoUnopwbprDwEB2mVlAmOYidDNyO+1PjDvuxa0swzSf03GIpYPc4WIcfU9DWOHh742kWYY8SliqRJ34v4yzHMK1EaGN/hBDqVvRfSVXQVFZ8LQ5YXXmCcIiddsTUHRYapW679cgTMEAAAB6AZ7EdEJ/AENa1MmGZjz7daHSq9lIRFgkb7ABrEmfeUp8FruZWGOR1otE8An91ePYdoZ88hRMibsXrhjBdMltBCK/MkMtYGkowIzx/KNOv51r089PxtgAudBEwOXuN8GuP75JhlV6cNvtZ4UHPKp9cAh/zIBHXRpIP8EAAACfAZ7GakJ/AEN3N4bu2xfNhC+2dz341/VEAUCXtyQs2SzG7nZ1rkh/PYdyiOdO2u0B1K+c7crofmzPL+BXRmZDwuZ2kB3sTv/252n7IgtPOUUdYXLyG9bu1df72IplrDkncntkrWVILdPzRJCCW0iKgh/5BrkdYwIgWlePESqITJC9bFsYknhs0x8MZlsANxyXy1+Jm3RLuEsIc3wW8obNAAABEUGay0moQWyZTAhv//6nhAAAON7KltaAJKoWIgE+mIRoQ2uEeyAEzkdRS+SuYR26Xq1H5xKxQIrQhhkwYDysC7JDg55yGWK65k8v1Mj7HEeUXBgljPjUx8JXnrWDe2L9qAxCmFVniQrExyrvcEiivr6l+Tn9u43YAMLqlWfltiDwRt8Fao06J+v70dXxEb+zdO6x8WIr4QWoJRV9R2dvlD+8t+zD5our+mn+Ev2hdJ/Bhp7v9c/1AFbL6mcFraqyqVj7Pt0AIokwZ++R53KZv3C3arhYRZt2cbnJVK3a2bicZKz2ORTyyTN3bkbCb9HPrJZOErflXRpEpJvulGXWPWlVRqhEzJNJJ7vr/+kx5zBZQAAAAItBnulFFSwr/wUTYPMrpOfKg8iWvE5xmt7RNu4Q1hUL/zagFZIWvFduHQAWnPrly6a8m/wXyfK2CgY/0zF/t2TA/O8WWzlH5dAug4npA5w8L/vA2G4OM9LienDwU4udGpLa7r3SE3qFRjQFJpKyoJhX1YJ0cs2vvyPKUcamDfpsZESzd6ebaMgefYUEAAAAhQGfCHRCfwBDWtTJhmY8+3VbuX5OcTnMJkPDHgBrMc3OzW5f+yExqG/26USpVTXDM5C7TvUxduzcmvjR7r9ZR6aI7b14zTJF1zjZClg7l+HcbiE1SHmJrqLCf7DhimTbsK9S/iiJbycLblcBhTGaNPZ9I0yvD0wAyWrcHVtzUDvkXzAUfpEAAACZAZ8KakJ/AEN3N4bu2xfNhArqJMTEZcDnjA4QAhuEPjJB22rQlNf6JUqrZtIztekZO42zBt5LACjqEHnZTSqqJIC3s07Zs2ojlTlNOhNtXegPmis/qj6TN7EhBL2pSDcxtsaRSSIXcjDLib7SSEKttci+j1/NnpYWGq7pv6Mz6M0GDwdu4WV1xJpSUj5EKZgM4k1fP73gwipgAAAA6UGbD0moQWyZTAhv//6nhAAAMnwnmSxAbGiWGZfgB96CbfEAKYw3xR0GNxb8h0AbPLfQf0Pu8PKBaGPUKSoQMyi7k+HmKtQAuaNnjhRcOcNxS35QNicLbpWkWIzpn2l3FGZpJJJ5/CBH2lC72z7/EdGnrdAXQnGLlCp26c0K8DsW1WOMOE1gql3ttBCdi/VLLXrl+SAtBNW3m4m+6RZLXGNN23KRFQR/7pn3REyvHD84Sn0v+3mI8h8CyMxpAQQUkflnxEwG1RMsjR5TxQdJvzlPuEA0mNV7zxBeBjIZEhbHOpFlGXVC/uOmAAAAsUGfLUUVLCv/BRNg8yuk58qDyJa8TnGa3tE27hDTRzwm1gNHEAQx367a9FVGcBtgNmlJ8qbJAMIDCDRFTdzY+bST8j2s7aMWtRq4hUHJ3sUxwKK9w/Ts8SXb3HfQLubahfy2ND6Zyv6/BbnnR8ysCXM9LTGsVRLcTUW2cWUnYanWBdeMgNXs2Jd5oEfciGLh+25tJZZpqIXw89PXitBpRnhGfil6r33mFWOcyuVCFSQVMQAAAKcBn0x0Qn8AQ1rUyYZmPPt1Vdf0y7gLn2pGklJb5QQAUsHNfh4Ss0JdcG05NLxsum+1ZxXtY8lsgH2dX6X1t95/LXLAOW/nol6RxVrYBtFqTFY8sdYFFojA8COKtbGYpIWLoW4OXZlZfMo/acdNf1kY/dztzAKpYZe+d/ItXeImyiRnsmNn9t8GbrsaGDqJWyDAxkuoMK/iilD0rOqsuGYm3ScFtkqpGwAAAJ0Bn05qQn8AQ3c3hu7bF82ECuN7ISSgw8TWvtCAIOwchJTM/FO4zXnv/ypnp0bLEntfq/GzxXnP0Td6EiJKQNUmlXPxw2psN9MvvuxSkBJNgd+VA1/r41SMX5pBwDUV1Y0W+P0A3er3oyy35pz38DDiGza+CclJiklWWk/bqAZnYrDFkqD/impgjXA+rToPJ0M3ncv2HvomrZmVGgg5AAABDUGbU0moQWyZTAhv//6nhAAAMTwnmi4TKQ4b3kAA2kyhgjaPcnPLTQgXbbGT3NOWy+Y96PINh6CzIUhABi/WntNFVy++S/Z/nSS41JaCeqlLClPqRVDwmcLbDLEf1rRkimjajBqDLGAlyETh/aM4phVlW6PVwSxD4P0c5OhzNXmHEWAiIzjoUpEfejpn/1D4u1Kbn9ayFZ18D2Sgw7FAKX+fsgzu2SHHzV7S1zp/W260o2d0q9cTiz91ZPJ3utWhhWd+BLR9nvjvXjqXrv5pg4uxJTUs32b/3q20CLfmc1fpuHXwB2OjS3BQswknPeqyxWa8DI/4R/PKNpa81lolZX3zCBD9t343zb+FeuaAAAAAt0GfcUUVLCv/BRNg8yuk58qDyJa8TnGa3tE27hDRu/ci3TsCfBpazPACWrQAr0H7SYu1r3hwfmLJzVrBpGyaZ/oR0AYE9AxkX03YUeUm2vJW/UsdekNwAF4tEw/lp3lq91TInD7Vz1sYlvxhuzfysVFg2DvsMRTcc8z6LGFDqg/+Pipb4uaoznEvdAOHvGpAVei9KD2o9BIWNq7wGYPwUtF3/B1ovld9tXJtMmZnL2sqE1PAL0DpgAAAAI0Bn5B0Qn8AQ1rUyYZmPPt1UkdEaV4TXfQxnUQZioA2+3pgxuIYb2xT9Wf6BAm7cgbi3sBs90lfwMh5nGAe6MrY8RFNOVnQe21Leu73guyMEFNvmHv2lHyUVSMU2q9F1uF9ZLwAy46lPIBSdvEHNNUHHpTJ7dxW0mXxi0dH4tvbRzXj1iqNNU6FBjnsDekAAACcAZ+SakJ/AEN3N4bu2xfNhAkjTsQzWIAN1kx0P44a10j8wLy78fwBGXt1GyklSzzp+D0oSl0WvLwkgNq8bljVWoYHTTfGYIwGft3W0Xranu+4EOnuHU8uS9s09zIRmI1W408BTyRMaCBjgq7m9yRpTZnmAF/4/bVygQGnwazTBRrwJSQOeu0F43DmUFcDDMaHcFugbC2Xh8MXEO6AAAAA+UGbl0moQWyZTAhv//6nhAAAFI94S3hXNZylNSYJf9miYUHn2IAbM/LHWO5uY+OlH/L7fxDS4ZxE/nQ3loi2h2nTBg+FUWb8T3M6MbjC3RhOCpjpkb2DPzO8GxMRGIshpql4rHLOELD1Sk+SmkzXUPqios2jwtPfQNY3kzYB0wAmAhAriIveJn26vmaeCz4ciV1UAP5H7xxcJAHOsNPa5TUXwDzIxBEaO5SEb6e1RbRrtdmN00LaC09WIvzGnRCGmGfpb/vWfOdIVv7etXY+gsDGxq53J5NzAObrxn1nwliqK91tFoc5SQDh7jGtS/+1BWpZ2zqD0jDOwAAAALdBn7VFFSwr/wUTYPMrpOfKg8iWvE5xmt7RNu4Q0bv3JiFnHJrP8d4AIwK2CUbmMyaOk6AjudpFYCsu+t9XIy+LAZvxEOh9Q5UkdkeKeFFSCfwSWdJN8Bce6sBB2KJtEkQ2M61SXe/owFKMlvdWXZgHQLcax2HZzjpLQIL+caGSuxor3VITNBJ8fAzh5WsCjCmQ3soPYTDrXLs6QrCi09960WNZt9C4km1wlm9LTKEywIgbQ/GFAW0AAACjAZ/UdEJ/AENa1MmGZjz7dVJHVGdq2OTSoGoAI7TKzky+q4VJmAbHuLwTD8uUD52lW6JnUuGHLXidurz0zE0A+HIbgJUyQm3HyjQuOto11xLu/8NVakhga13yqYGPCSzfMJf6K6/dezlp+YxxmnkCEMLl0rvYiuTJ+nTPFCdHeScw2yJ/DMgUcCvizp/1lr2ZuwzARHfmB81qIA0J29GG3DjxEwAAAMkBn9ZqQn8AQ3c3hu7bF82ECSNTXIsAL8O16qRh2mOmwKTVPox7Us/gRThKshGB4Po5Zz2WyjcmiJAJ12nFbwPNp8NGqrv6vypkj/hbwOOieVNtKRKl3TtxKHnWggG1JsHeHkw9dH2xcl+Jif8rUbai40+G9qvSt7OL/RhFoFz0USIHtRjuGGawVo5KO0lCWSkL0zaBoOqnG53J5TKemlpwAMcHgUafg7nVu0vep7BlRWj9up/Z8ugLETh2gSOk06HQMNwhJToBYccAAAECQZvbSahBbJlMCG///qeEAAAS7pvaOb1YmKdByAWnUEdPf59+pdSAG6ICGMwfhJx+P9Ve+Cn8uY5qPobx6TS12SkGPqDNo5tin9aU+PofLAYBgXAUvDNub7cpqPVU58eXTNSITfbRCsQ04N419vLvIbWg789sWifk794oVQOZf2+FSyepU1FHn04v8vyy6vAXzzgBdhywlzyI6pIypsVq1RDca0CtCMEYY7hzXRuCFVk0C4dovdoKmokCiY+47Od1iHkHYKCrrl0yHttcQdFv07J6+HjvMk9LVzRJK7Rwnxez7o89rKkANiCPb9WaMgxFiz3lLxdOUmFG+A8mVMRPxvGBAAAAgUGf+UUVLCv/BRNg8yuk58qDyJa8TnGa3tE27hDRu/cfcU7TgmOBQDGiBMH+XJSqAHC2CokAHf0bptO8cXhp1291Lv6ygO/Vi8JtGubj+Mv9589af2fR4EWWCxcnnCR93TU4Kg3jnwy99ULm7Hc88uDXVECC4sxdE2X+ixoARfQGBAAAAHkBnhh0Qn8AQ1rUyYZmPPt1Ukc/xlqyr1MSij/V8AUiORXLvSgAJq8+tyIyBOVCjRw2QV4R+n0fpTWQXaHcdH6BoF/Ho7x7xeA6UhoRGCTvdJHl/kYGIICugbea2yUUSxhex4ZRXuOks+4fTpeyImyiJk10jJhOfgHHAAAAuAGeGmpCfwBDdzeG7tsXzYQJIyy/33USO38AP8u8mLqUTfABxF3jDEVy4x94N1ER1A7g8d7uRHPAMNLEl8e1tJfOnR82tAz0amE9AGa/xx7ozys8PI7mNjhxGoy/+lwILEHbwAukdLBsXL+As0oO93Q/9DCB5paDvkMDp/WQeTO5B7UPZVr+5pgAE1Hdmf/LnBm9n2xsQfr47eZgy5mJURgCRl008zTa3Koby3KiDvm/W81aTQAAK2AAAAEUQZofSahBbJlMCG///qeEAAAHG5H4YgeClwksRRe4vjQAshOXD3dJZ1KSiCT610k6RPKSzSyAXvzLgrP23J+TyCrxVSWG6WiioKDfg5VTYZr6IcxU3GkCr/aHi5e0s4nuMVP2nVHLRqUo4/fhjh55+kXKlEYTNf1cgrKJVHDg3qzfSMLcQ+CW9cVWdctAB8u4iKemQaMAetUfwF3tRka/Ob5K+Kfpz4ES72MkZjfytDB3Sb5d7QNj1b7PyfMJA7xIL7NNlAviyyqwMyMfhZTSAxqTKN1jPb2IYPDGwKqJpIbGDESO6w5VqnER9SPs0zrsAFnU6zx2TcQ7FjWa9kUUDkLdzgtmavTjKEufm/Qz7+Mn1y/xAAAAz0GePUUVLCv/BRNg8yuk58qDyJa8TnGa3tE27hDRu/cTAMk0AuNvFR6F2fQ+epM8Pgxi48xkAAFndiJEatzrB9HKNRFuXEO3rm+Pfx+cvXxdl1BEqmcRYvCU+LhskPtufkM1RnmFxa322EL/oI3jv/3NktUZyKDPfIkzSx1QV6fN+UO4SdHWS1mrgIIJveRwpI/laCVs7cfRh6/P2EI/5d+9KcDOoYHEPy+MSd6cOUHJ98ekyTa2aa044SG/gxRVMQzA6GiFWI7PESwVJKQekQAAALkBnlx0Qn8AQ1rUyYZmPPt1Ukb530reGHGPcPAlfzzq6CUZYiCJlP/rvikW0gasYIALb5u9G5BFHrZALL3VP3+IixyV+NW50TcDxCe1k8TOUTWg63JNh3qTonaBwhMrfjTaF53GMkGvymNxm3bqWfqc3WsrH1SP0XJA6ShUbnLG/7FkhE2OBz8A7Lex0+2Go64ip80XtnwmcYGwNywbPsQCXl1MQciQXbliTzZGAKGGQ97okJ5RpPzpgAAAAJoBnl5qQn8AQ3c3hu7bF82ECSMsv9/iJ8TFQ55ZFO/whabGt/DRC7vqNsgAJx4ang5BEMxlcA//fvFPxYisCSYgfwN6TveCkGkGAcRWeXuh/24a9DSY7HAhit13+a3v+mVr6BY0qLzM7/KnK29lFZVp/K+qk197qw3PPilQ2ThSLHUIhodVrX4hkG7Bim7WHJlfrrylZtSWxEnAAAAA9EGaQ0moQWyZTAhv//6nhAAABxuE8uJcWwrnL+T0G3+YHGA4WmsSSwBDIBCTwxO5OPREref8L6xdbmHvZJv+12KVTVxiDOuk5YUyTH8OdiDnrSISehm4HGQCTqEwk0+iFdk9Vge8BPmbxWmB/L0Ra4PZinRIPobfyXgEjz929h4fi5RjZKWEJCz6jDRE5SNXFsIHmq5tM7QAD9YcpaMEi1HiGBVOF7DEIq+XMOz+XviJQ6OjaEzlyPw566WwRFA3cMm8Ne5jy1pfhiMBaYH4HsVpJF9RS4We9M1m1BBXPEj+D4aVCQzIy4nFDOzDERWpJFFnpeUAAACtQZ5hRRUsK/8FE2DzK6TnyoPIlrxOcZre0TbuENG79xMAyZDHBJIMzv2MEEjjAqyGuTOgAEdniMwbq7zriF17oyZxofHNdkRr2gUsrE3HOVennKSPlqUrh9XpFoe5mdHFj1qK3tHveRLF/6/jxJAVrd/qLu31crzeCH160K8wz890mKM2BkPury8Tv17+uoa1b1Wa1OTlTgh8LV6VghSe2UwDhCwAbcBQnlXkBdwAAACCAZ6AdEJ/AENa1MmGZjz7dVJG+d9KMPsDKuGuD/WUF0Ss8VW5c3IJMwJWbdIASy2L4eBeb7NJ9SEiq6Om1WdgSPC6oz0kXZzPwMxmulll4tjfpGutYDyu70FMH9RRyw3ANL4Umd5PpckwuQvLv6J1XDgnkniS3mE837dY5NnU+5wVUQAAAIABnoJqQn8AQ3c3hu7bF82ECSMsv9/HmEQpTa/+gu7XeWhj0ie7PO4ASwdyh+voWw0ldDGaNcX2nQ9emX+9O8RpFoAiex6aEnybc2XuaTEZwTkCKu0RrajsoxhGSjNgZUvpDnTEp4rhoXTuOXU9F1R1dQhTttgSPPCz3GD95cAfMAAAAM1BmodJqEFsmUwIb//+p4QAAAbvhPM1gXdw+P46B2FnrjI3jHCLFWwBRZxmXjriqlHvSmyIsxFPQvXBgOTBnH+8ciHG3/SbKAamosxLwa4f2y5dHgI5HE7d0Z0LSWJvpF4uDZkKD8kzlB7fYRKnxO1puQfYaZX8uGaAGlYFV/lcQ4xIn1Wlw5EXJeWiKXVeBWZQsrf5qkwid2IkPrvHz/E5YHwACLML2sjtR01ph/lxTLMa8yMYRqhfC2WuUAYrOEQw8KeslbIXTOTxAbFhAAAAk0GepUUVLCv/BRNg8yuk58qDyJa8TnGa3tE27hDRu/cTAMSSfuVoj3KqUsXv6IAAF1AC5b+uAhk/EtdYs3UrOunyC9Hea7chvn82R+m6imsSKpzNemn/38yQdisoVgxJPTchKOt8vq4ImV7vcUYSUib6qH5Yl++kRAHZ/LHlgVgU8hI8wlznNBCq2gViKlcLwrwDPwAAAIABnsR0Qn8AQ1rUyYZmPPt1Ukb53z/5AfSdxseQJwmwj0XtOByCWtOAmV9d+gABU1g+DX5Gstu9R2cueZVmHEpHN//8MQt8buCqKWimJGOHasgb4WzY0QmF/ra+OaoueBL6Ojp7rs11YUCc9WrGH8KqqTF00WPKHQEn55NZmsgbMQAAAHUBnsZqQn8AQ3c3hu7bF82ECSMsv6yZDajTwTAweAZmc8le93BO8AEWnbxXoI94TjM0Fzw8QI8lrRwxhzDhQY7v35NzrUKX9JzarvpXQimEeBBAJ4QH0ZUBTs+ech+/f+m0CTo7W99iQuQC/U4ZOLYpdkmiHrEAAADCQZrKSahBbJlMCG///qeEAAADAp8oRH4WhM+ilYbX7XADa9a0PtqTj7p3iS3XBjhWBLj82Q9V/5cZw+FXKt4h4uDZaISTBgg2GLSa1UbxpKrfwOrhF2xUMNvDAK3endZjhfL5Pta4D0WJ9p1YAZ5Ke1ehuOrmUOyy+ilRWX2vMvEyJDWAx7muwS2XSSnYsmZSX05ru0oKU+AEF8ctd7Ql1wkcy1brbqOc2IpMSFOqYzutZ3zuJ08CgGwisSBEgT4bqCAAAAB4QZ7oRRUsK/8FE2DzK6TnyoPIlrxOcZre0TbuENG79xMAtUGoiLDHJftN0JA3BSI4x1QrDsMNSN7cMw8n6WRtgdJkRRJJviAu2qgASktbHRc/dOZGOruKul1116Q+xjJBU20NYOkX0+OBoVGvbP2UjfgC7Gl3sBlQAAAAeQGfCWpCfwBDdzeG7tsXzYQJIyy/rJkGTi997woQ5Q1c9CL/arNGTz5gzU4iAB/N2g9p5XGBIjQILQq+uI1cxLy3u7AwwEMBOfOp25OFsQo1IoIS9/8EVj4ZfS69DjUHilNYWtEEJsAxHxjRxYN9PgDHdMqJlsNHCXkAAAEtQZsOSahBbJlMCG///qeEAAADAqCw4A/fx/iQBWv/KEGJShRgRnAtDgvhf18Dp/dJ3BgKg7AC37jFm6K/fmjs4x7+sN8xYYRW4YT424okPAyWxLQx0Dsv1ROSapwcDsLlg5Ut2oWooSgvYLyrhGMq5Fbco1rhMcOqCf4M3Uv6CyhVFCPbooT7pFLVGNcuHhwW03ShZIWE6kGgafiAiIhIucEnUK5KzgbrQZg9I/5GoMMqwtY8zEmNo9covLclE28dDk3/jPQG9QoNGQySJKbckHJUTxCUktzblroJXY25+63RHkggz2HB+Lwzz7TdP7blQRiAlu8TNbm2BiaLomXbnWXTLpk+mPT2GkQw7ODsQEf4pzBp7s8aUI0A1mIB8vp3tBVnWqxBDLzmAEE3ugAAAMNBnyxFFSwr/wUTYPMrpOfKg8iWvE5xmt7RNu4Q0bv3EwC1Qaibr84boAWuplUk4wa9y0ZPUPrl/UZIyk/76LfEXlwU9mNhioQYVYlF/XqbFyyArZc0QinKYRacLEsEF9o7u6bX/gk49ir7JYD7djWoW4aP8QwahWFd2bN4s3f6ysCSzgMN0teI9hvR3nOuqD6igxTk8e1aLO1HXYAgSFLTqM9/seR3wcdvc1akxfCF802rFUCbyv0ik+KxtV/P0d8QSsAAAACXAZ9LdEJ/AENa1MmGZjz7dVJG+d6fZYKy7IgA43b0qnXjjVv5IVxa4dX1bogNIhN3xEE2X/CN9zNpm7VpOm6nzFZhW+7Jez4FcFeAZzigXRIvrSZHfhKGaoAUBzM9pDev6NveB88sakgAX1VrpK35W6OfJh653wYJPyldeE05LzxVS/jO2YwWYKyqVKVBJNOYVIsxaq8VMQAAAJkBn01qQn8AQ3c3hu7bF82ECSMsv6yZJE/AnzXOL51KuFLReyLABDcIfdJ6HKmNo1ocHUw/H17GopLnrWJsG9TuN6GDHwWX4EDvHNpsbVBqGqsvLUedbBYLXW+iEwoU56T/JofesvZ0So4FprRCm00/HqznHMDMlQh5W1VdaUW+KgtdFKGcMlVg4/SWwFSK+3p5spGm6iAMhF0AAADjQZtSSahBbJlMCG///qeEAAADAqPMu0wTcLh/mIwWN+13j7CQEmIB9FKS5gUhKFIgoM9s23cnYSz8dsWatK4nUHqFBTIms7Jwgw3ORfBjYPXREjYPV11kBa6EAgBmJXCwr9xL9TRM/gO2xTopAKexmXvZkr9/uPu4tHTvatghtPcrneF3Yu0FJGzQePeU9kTChvm2Sp3N5Q0WRuVUma/peeccvzwd/M2VQAxWOsCLrGT8M3/cnQuwhODZOFPQLGYu0yvnwZC2LzslPLWmBp9X7QW5ofVPmJtvyxUK7fx4q3jaW0kAAACtQZ9wRRUsK/8FE2DzK6TnyoPIlrxOcZre0TbuENG79xMAtUGomrRFAUUpmqAQjjLmqi9Y5iSgcFA3o5kzKtTtYzDPWMLg7TVIE9JFklrs2Azdy1ULaB0iWepBpI06kNIxkUU7BZoeputtEgPOVODTz4ZBWVSrFFmyAmVyTq6SN86UONi3RfZfgxe3cCjClvMvdOBpgMqX2IWwiCmiIt0Mh7nQnhQ7vxhlXBRyCJgAAADUAZ+PdEJ/AENa1MmGZjz7dVJG+d6fZcM/SJOOIwAHE+ClkwUdLbBd8PjAkE6MlB9XFRwk2JZhT8wJNImhTg9eY7/1E6Uyxt2TMoiJ2gHW/FgTvZNdrXxyDGIu2DGRwZbqesHfUOqEEy+d2avdJeBPKTPWc/xJ9VVm9+XUZ89VyyPe5MxTioJ+RynUHiOgJxUo9ZplOGQAiwXcsyEuz7Al7vMa82/N7BAgU1PlMJCsEkl7O3InDOl3AgWrf4sToRCPbHKyVgyl0jiNxZxbbZSUD940ImAAAACoAZ+RakJ/AEN3N4bu2xfNhAkjLL+smSQx2hf+QKkniQNe+Gql6Uy5gAXQT30OPeSJa+R1+pQbFUIc10igDX27T8RzNoLerWng3a3v8aufwJ4fnew2DI3LiE0vJB4S/E1yOi5x3Ca31s80D1BtGaRJenDr4rsdLy2HtTVomwwUTEbCfS5PtScA9g/OLDuRLHtE87rZfttrgNOSl2/FfA8gyWyI866p8FTBAAABaUGblkmoQWyZTAhv//6nhAAAAwEG6b3J4AH7+CGad2fdzUn899sKQ1MfZ/rvajn6Z5FE11N1uBfHMhvxyyqjtQ5ooZFfZIIYF6p2vidlaX0hEQgZRv1gkNIHY1DbVz6YpyG93Gwoa+NKUKDrfBcwCLj9mzCjkBk+DbyHXvba9rdRK4/kKhOYnVPZPLijipBtp1A5PcnPuNuZCFgvDUH21jzGZsJhHlL/Z8NkB2o8j9Vn4HGkvSrHo4cvFhOY6fyWDvU8+iSKS4CJ/g9LJfooeKr79evt2rBw9sOvXnMWNiY6Z/jM3EhPsvwkXKy5WQTNJcex7U67TXFFLUJGneApsN6YyvXQ8+4kKm8HVkQtmrDIX81r3Ne5IH2POhWKjud+8NdKUimjHmuE04It9hXuyzIY1tlPEXwR++DzJlehmc4TjArCvfAmW7W0t5TVts9QV7a7KzUtCXbndIpVUifsHVMgdt+3MM9jR8AAAADlQZ+0RRUsK/8FE2DzK6TnyoPIlrxOcZre0TbuENG79xMAtUGomoXd91IQ4+dMCcNABCAsEpXANdg3wkQhK9NwJ/LJRns8thC5oHHbRjmSrs+6x5F+QtRdoXM//Mv7u/lf+fMSN4u8nAMe0EBGjeCJfGAqnqnizyxoQ/gvzQbp8cbVt6V2CiFLoNaQHM5IM/zypvyQ5ttBHtJXmgn22HECBIgwR/ZhikTB/ZHqWZTxba7Tsu2eikUC89WLmSPeBZKJzDoi1Igr/VZjZPpfMan7Z0wxuI1mCYrX/Zf5UPtix8TbYYCFgAAAALABn9N0Qn8AQ1rUyYZmPPt1Ukb53p9lwrAPfn681GOE0m1BMeLg4zOLGhf4Eep7ucLZc1wAD9TvTvrCduZ3WfcKMljbJ9xuy8+di0B4/Hgm9ggezRCHQ3fG5kas2DSxQ6cGdeNfzxkX/YiR2xBtPtUMENkaCTp8X9xhJigN55/8z7D4GLvGbu/RTXNxxJcESwD4S5oASBCgILWKABEqkn71BhxaXlKHgZiYp8VRghBZQQAAAI4Bn9VqQn8AQ3c3hu7bF82ECSMsv6yZJC92byOkAHBLZ9Y3BmZUM1SnkkkYkyGFa6SN7lPzj7T2pbemcrOqRzrWGrB9kGFTw4JEMPFAY2VPx0/KIq7fOEy/fg04NeYXAnKjaouGJqrtUF9p9W4lEXlj3SMQqj+wcxWTw6p2nkLIwnro+EHPuUUrcb6F9CtgAAABYkGb2kmoQWyZTAhv//6nhAAAAwEG+RaYvwAbVUbuQQ4Gn5gz7Tqm5IqHvL7DffvIpdafYlRLQT6Tvu7FG3anB97E88MClxx1kzDl7Za614WR6W2bjBMlj3/0gOgYNQ5dsnxvLTrikzhQ85iAYqiaLeD9QcTm05XSgLNnY/ZWtG6BwyEbWweG0X/t5ACcSoMZoJDvFiOS5HU4M42+3uW5ejel28doQxDBqIpcCdUkUHQXLxUrIpLO85vKPGHwpqK9+oMLXb4f39kvG7gvvxFhqOcJjjhGeXpN6ZT5ch9PfnH2P5q3bHanN7JQtjhuDrtz6e2liL4OvDC7AgIuj1NlN93HP0aYilWStr1MTCcEiAipmMPWxG0GaTAnUeLx3760ChXqxaaOc6P3SAAMEg9+3u8uG8lG21NJNttHdm9YKLQlF7Lo8MBYhS2ucgEPjZXTP8UsnD4B66aU2DKk7u/c0Ek4eQAAAM5Bn/hFFSwr/wUTYPMrpOfKg8iWvE5xmt7RNu4Q0bv3EwC1QaiahggMrgBwAyEHRQIYDw4MYJgzy2viS+EmEFPh11yYGN7cnBtkOhShRH+VTn09c2YlErT1R7jKTX/FAsId56H1MjOmqR5GaT+cHxyZ0Xlhu2/tWQWZMrxvcoI527IBkWPiO0HdiXxCTz5FTmZXOcIAuB0Ho0sGxU4hPm+FS/wNeLbbbB+iqC8SC6tsMsWQ3r6z7yg5Fw+MuYo7ytOr4t4RZbBTUwVwUqDKgQAAAM0Bnhd0Qn8AQ1rUyYZmPPt1Ukb53p9lwrDZ1/TiAUe6ZtCv6/1eIdQ/2MKn59RMkrtf5iNl+V6rI2TWyeZHvE5YUnzk2KmshjgsVEOW2tHSoJOIj+AsckmS8rvdfFW2Cbwx1wZR4hFN6KNywk88Z5+HSdABs/Pe3kbTyeX3ffESktnmRcawvrKEX0zmW5SMjzVWDxbRRLG6VhN608InZV79gWenN00zF7WrZz8YpQlJEtQqUZ5jsfOWFL9UJ/Gn4RZsV6m1GWGCeGThyvSAAAAAuQGeGWpCfwBDdzeG7tsXzYQJIyy/rJkkMMDGgDkhJmZdw60vBPsm+UCqzx/FWtc4QYcruSsdFY/2yW/Iem0GCJOWZSKMvlFK9yzvM0law5rlyoe+Ee/ThmhSwk+Pql5aQ8adYuuUN1sy0rdZCbpAYvnj0Q57fPR3nVCUnNOVatGbJHXpCOLf0gPVkbF8k5synEPlMf+Ruk6fUozawspHq5yreNHlRvfUKbOmDZmY4UU2BofRTBEg1NGBAAABHUGaHkmoQWyZTAhv//6nhAAAAwEW6b57iAFfKWS4GayjkqjVNBuAh3FxpEY92+CUALV3vS7Nbc+mqqBQb0IjOwmX7Lxpc020iFm/1fzCD34gl35t5gghUSewJJrG8vOu0bhxMa8qkPaIfLyFyY70SKh1a60cTKrdgI1uvK+NDhDfF28ekebm/fBD86MDf9rAksDrrPx/wz/YYVvlvY9+civ7BEbk5deuHSEPMt3dVXTDI5RYJUqOxWC8qiNOXH9TcydvGN5sys+gy/bw3MzBX6E0Ru4wsLCX5ObhUTpVwqfLjMeQnquf4l4dNJuZgHhqJOqfe013DhTxa7jYnwmQlutGbnOOTCppydGAJdnusSLg0jdidhc693dDIrOpgwAAAL9BnjxFFSwr/wUTYPMrpOfKg8iWvE5xmt7RNu4Q0bv3EwC1QaicCYx9KISAAEEPB5ulbExWXhleZ2OEXG/ijjihiDNgFNduUXKMi2MM/Xf35VRzbj/84K7e8v4bIdSEAljXFwJZUnI0Szw3DzZiCMpnDJjhgTDR28ihBk2JGXovBt7Qt7RSTgmCbVDxAPpxokY9ew7QuMsbGoAdZ01vfj7zOeTvpkZofJGQLfO/LfUIQ1e5silDjyjytaVZXNQEbQAAALoBnlt0Qn8AQ1rUyYZmPPt1Ukb53p9lwrEPjp0gAbCnVB38SCGNgmwfJOhVqVtxxmDqbqwxUix2dj8xsrg7RAHEW3JpyxDW9uhOwz5ZJPI4dLdu/bo1JLA/ru0/u1tgVRJQmcpxE5lQUeobedT7tpRx2awbLaasG77Rvp+fTgo8w1gO/Ie5fRy+oJaDeZxWB0kmYDZUXJ2EDOgAHmLp0v1nK9v9D80X2TtIk2YeSHd5yU0eYOxcr+tyBU0AAAC1AZ5dakJ/AEN3N4bu2xfNhAkjLL+smEEfUoA2+3sSCgPwdULWvo8tjUmyz/DN5ovaTiSMBFpTkXvxmwgR855HOM8qXVq67+TxLrnyf+4+fpEho3DIEDdrNKoEVtWpVqtCyHWbY9/8Wss5ocDdMLZU2e5Vuxk8DqqIz94Cc2dQ1fkL+99x2ELOxajZcntvSqj2y5MLQKbQNjM3pDwKRD+nGHfo4WuOI/KcDZNhf5cTSzWcEdBZQAAAARdBmkJJqEFsmUwIb//+p4QAAAMBFvkbUevrBy3MgY4X92xOEGuIeAherSm31wRTvVLGfGneqVymFguDmsCZ104qPMDm/oGSEhh2zi4A7XoszON0PdzPYl0Jsl8HvnlBNfbLieGhXiUrjLn+Uz3ShiNpy9Y62EusvXwH+1SiWU5s4+m9bld4s67HofLGCFYNQo/MtdglVy8v/RIT13XESP4KV+gP8oRgC46AA7bYgf5ocSCiRuxCvcm4DMt/G6gNnNh2eO+WR2iDxRwALPBnKa8vXsMCwqzhMB7pxt/P96EjGheSscuaeGs3vfZ0qWvZrbSxXCi/7waKx6KGsm5K5aGRk06aH58Opfk8IuCYugfgCod35rMx9xcAAAC4QZ5gRRUsK/8FE2DzK6TnyoPIlrxOcZre0TbuENG79xMAtUGoIzA3rYVLbJdwMCp4BH3UCM5O+y6o3s6Fbgv/9AAEskvP3yfAhujusKD2Kz3Ry5wJypekIrTQnq6OICgIk2Rsnmne5vQ22gdZT60XIyfJRXwjIFj62D6XxDAMivPI3BL2au7vTOl3zwuofFLBhK8DYePbp9iG1WeY4aCc6blzepR6R9p5SKUoV3j5Vk8EKtyauJBqQQAAAJcBnp90Qn8AQ1rUyYZmPPt1Ukb53p9hVrG9FpB6sOAvPqykhJkgItVYACbnhNo83SNJ8hKFWkM8xz/Zk5MkK2rWV7CIT50oSez9aT0Odgxp6Otf7JaVW+e/WYm4D4sW9BlHEg1JG57ejuO/Dv+x2M8rxUidEpG95OJLL3wYsjY59uDe2dpQqfrBo22Nlfdgog5uX8Q6gHdAAAAApQGegWpCfwBDdzeG7tsXzYQJIyy/rJgZBFzaf9ovA7GZOzdktIIATTy3HS185ZS3eK6ZPOzzu3CHY4/2ctKZTYgUxbrKrbvxvR24pwxb1ZTiPv+yYJBSxGEuKKoe/NyJp//aI10zZk1X6pgt3HqhTXAFVGFq0Lq+UO/G1GCcRG1Ev7uLA2UkK8p9lcAUhA85Vh1Fh2XklVURGIismHhSD/1IhJvtHwAAAT5BmoZJqEFsmUwIb//+p4QAAAMAX/hPP7gBmIf0tzT0SD3cWRJ/13sVO4roiXGIPu14EJ3+zBHG6ycRU0HgJ5emjfRrtYWKoQRioU2XTjrqttZyHeP4pvbLMRNsjKM4v4pTdhP5d0IQd8vb/0My0Q7zx3fHIiTkBNW99q6FkW1UyhAS4q277hwqfLVYeLNMwc3/nbgf3Ev9pKcxdZ+SlfGKmY8dY7K8XnAsSpDa1z4wG0XchBxWaTpokStGjhIGhfbm6IT5b15QUIqIJ+20oZoAMYQFo3NmFxbcTeujN4y5KibqsjnTgljG8XA7YMAzfoM10lDY+Fxz23lWP5z/f7jlNpHkkWRES5F7a8BjyhE1b1yF45N7vk+SZ7rJ0NiEkxvJpLyy4bfZS9uSrdWSUxGw6VzEqTxgFiLJCQAZ8cAAAACmQZ6kRRUsK/8FE2DzK6TnyoPIlrxOcZre0TbuENG79xMAtUGoIyKbCXqDbWX0suVyeOk0c7fUFH/kjvRV2S1EAJEYZP605ogeL7LC6v+pIAmFeNZ3oxoHtgcNVTflqUWenX29cB/JW4YaZHg75mWm+epj1mKaZuETWZ7lPRTIeHjR0Ak7AlaGX0/r7iWnzvJZoJmYmr331oR4OOZ0+4OvnWBHaHIP8QAAAIsBnsN0Qn8AQ1rUyYZmPPt1Ukb53p9gfnHzUUZrIAoLIdfRxXEJNi8gBW9YWrUnSI67dFYST7mLg7W4O4GtpPv7dkogRTfIoSEDWTqbpaOZ5srsRRdcf/ObxqXupTOUjaF8bjvSmWp5Db6Wu8hdiAcCbPQh7hVyOTOgKYrrJ7xr20aWjMpLGnaYkBZRAAAAkAGexWpCfwBDdzeG7tsXzYQJIyy/rJgZBE5zmbnYEOegA9kcRo4CfHXHEqSUv2HbgmXz5lrqMzy2VHq4GcNO8hpWDlzKOCK91yGWIWtrFswvo5mD5BYPt1CAci2DxdA4fLS8fzoM6ywYTh5r22X2/tNthLiVOFPBVbqdZHrjbcNzS2oVzM7I0JLIBpCpUnYHHQAAARxBmspJqEFsmUwIb//+p4QAAAMA8/CeaLhcaZcAJE+cEm9Xe+eTyM3uCXkowayK8zy9Dq3H4Ak4Va1+/wdcCXOStJejC7CZyvwWbuYJCKa5zXPlf5Ex1V76OhBISX/IvYug3QfB6gJ3fYnEpRMRm5/fObSU24kfvhyegKlhYq1u2lY2ZVSEFkLkkJ3a/m2tjRYbmvwZNlug9gza5qAffzhdAx129i6RInZAnekrSRhGSNLTVvL3S3KkyREaNAuXq7qZT8Db+GSF5goCrWtvJXiXaKo6afZkB9AmTO2tjy3prhJbKX4vxmphSBPuXzYXb9AMxCc5YsowD6jZo72CqHNp+VCOBzvwhphDbxF8gtiadUvsgIESrbyfEpASOQAAAMJBnuhFFSwr/wUTYPMrpOfKg8iWvE5xmt7RNu4Q0bv3EwC1QagjIptaeqD/VJgeXcwAsBZvt7/9F8jLQEpogN3iQiOFoH8aKTusez79KTUg42G4RT+pOt6t4BvrjqOSKZhF19B+7AxdSJ8dgL3D6apt/MYDb6TMEewjTC+7UVsFXOjQxxVog7iKbI6pGgUXSlzK+yGNYLcARJ7gnXHH7Kibi79XMNFFXce3p6VBqjaRj82kab0pPTn1cgKCHDCAEdAUEAAAAI8Bnwd0Qn8AQ1rUyYZmPPt1Ukb53p9gfnM9Q0AVamFCg2k2Lyr12HWJfVC0vDM3Kq4BXj1k293uStpf86rh7Gi8AVHqTPgE2ieULDe5j8RVw0F1juuF4HmdvF3Oy2pPwTawyuitWAbX+ANN6DvzO+JqswPnaro8zXepggJ/FcJEOE3XM7v0DGQGdkbq+eQLuAAAAKABnwlqQn8AQ3c3hu7bF82ECSMsv6yYGQYMs3jBK2OdgCrU6YA+G0VsDvT1X5UFX0i+nXpwqe2n/15q4cicDVmgaNTF1lnvNEg+wHknTonU2T8xpZzEpFUFxoX3euiZlBuTtjo+1WksLAlcI1gsE2sQMeoD607xaWAMT3fsa9jXCUJHZ3aph6Nm5Abo/36Y+izBQVXgb8X1mra7sqL9SUGZAAAA3EGbDkmoQWyZTAhv//6nhAAAAwBnfZT8GBwyhicl8ZIAWvfjyN+dKTzTHhqL7y7QNr+cMfZmkt3M4YeTuqzWhH7DHNleWcaVBkr1E5+dywNMOETmlqlJhrWs/5leRPK4AYQEPhWINAgYEm7czwES/thfpx1Jha/RxbEiN0OTmLERD6P3qbBUaoeoookDnJFp+upOVCBBESgyUXKxpktO6wbBtrgh2RUlqXBrBWWvEbgS8CN3rA3Uazg2omi1RcidtJB7tlmRoeJWyupu/ynTPYB1N9euOqexk/qWEHAAAACWQZ8sRRUsK/8FE2DzK6TnyoPIlrxOcZre0TbuENG79xMAtUGoIyKbaBqx3DdQLD1e1vSUIX9b8ZmD1anlbS1/CACdy30X+qs7q55AMGK2hv1q9Ng+41F7oBPwNDPzLgprw8ec9po8p237dLbW5qFHqTUHSewBagWepAocEsqpq+lLVTEmXcm3/Y9taasIsGsUY2ET6CygAAAAgwGfS3RCfwBDWtTJhmY8+3VSRvnen2B7zS2ADbiFtKaHbPy9vHb/9flhHHZV0an6fPicuZGrztaZA4UzhKAGdKLLrwUzwCBzaLfutwG2MeBlJCF5P4shFxUij0tvveon/bjru0zK48WuppnKqloTZQifxhZMFTL9QywE1X69M9w6yHHBAAAAiwGfTWpCfwBDdzeG7tsXzYQJIyy/rJgZBCtcGyXP4zsEJbdLwJK6MQmMjqfLNY0ELyaABM896bMZ/UWDRSocB5Dcscw5dnm0+bwjLIgvdK3fb0cvyLcZAA3pbZbg5BS8fvXDFALcy/DII7UdvfgFq0ofcBwwJn6GcuEGcxFG7R9PSFv252TI973WAwMAAACxQZtSSahBbJlMCG///qeEAAADAFzxnEiWRUUcnJ9rAAsNi1DQf7Bdwmj2NJnS4SXKIXLfkZOvWCz3kt6k8zCWTCfQiHJmNwSHtT37pNf935fXN0Wd5keUt6OHxR6GsbnJ5GgNKxFTbgoc7HHS7oFl2FqAgHl8uoMoQTLxFpXkQP+jSkl48ltwXE2yg/7vm22PAvjmH5P9PSs4wtH3tRYjcQOwlwJ7pfJfodZDM8530hUlAAAAf0GfcEUVLCv/BRNg8yuk58qDyJa8TnGa3tE27hDRu/cTALVBqCMimvgqxSXOsczfFROUPeiIKodUQf5UgMDCEAOC/z0iBdorxUwmDIRxal8P2FtjMuKjCEInn+u7LvhaIfGdmASKtbBx7nFczZHYwwcYY86v4khD+yI491WAPmAAAAB6AZ+PdEJ/AENa1MmGZjz7dVJG+d6fYH5weprRF+qUX+KBHMUdBvhSHTtUAH4qrgF4oV1iG04pzEn5weqqgavSOdy4aw+Bsr77eNwenowN1msbgAcJPPUAiqt2hlNaTzrbbAMXBCe2nGWCHjcNByRCUV5Zw8hhQPbA2YAAAACTAZ+RakJ/AEN3N4bu2xfNhAkjLL+smBkEAihDRbqt/9bqLec5cAAnSvoyxJFEnGIWRqf0qEGWWTU5auSfLacMRMB+82VejuOY5BCFu5WbujKuRLXnrybU9r0UycVq9jyiBIUX+Rk2NGM+PZbXmhubYlVGrLhmO0zFPwitYyT0v+SgTonYG7YyOy5N/7w1R5uZgPaBAAABFkGblkmoQWyZTAhv//6nhAAAAwBdf6PscQgjREbDMn4h0zym95h26O2PrmUAbTkH62mQFI2pWkgO1l+NRg48Ql85pQQqRsaiD+8hAXD17bcIemZ6VhMl4i8S88aj4Os5M93HPCSCj/U+68qV2okalf8mYJLvV61DcRw03w7UPuBIb4Wqg/UTj9199Tc1jBldhCZXH1zhh85m1tg3pv+gmJneklJwc5jtiyYQ8qCJVqa/LJ2AJlUrPPQNiCcqYFKIzWQmD3pRkv4jfXgUtj1rmb/MTp1DVoHH7F17DHWicwZAYod1STZi1wcXl6PasJWw4wd4OKSW5csZthKz9F2gGFrG44smVDnsLadB73Sfj1u2MnG+0zNIAAAAj0GftEUVLCv/BRNg8yuk58qDyJa8TnGa3tE27hDRu/cTALVBqCMimvcCzrb279+rmn3Y/2ulIi4YfxMoDv3pcmMG8Jc6vYfS5KVKL1uo49LcbqjAGYWoiCxL2u0tN+vgjwBKOV+WEgJb8kokTu0XnQUoiNzgm5OBDJxi1hHnypbIazF6w+NemFwA6thlm3NAAAAAdQGf03RCfwBDWtTJhmY8+3VSRvnen2B+cKPhw2RB4F2kF4FcLj7xSlDopcspP4QNM0SjMSWXAvdlsADgxv+X53cPdXvnZECooljTJpw6XhXKyhczwnexAJKIWwea7HyvDc78j7HObudqG4o07tWEJLgsohwIOQAAAJcBn9VqQn8AQ3c3hu7bF82ECSMsv6yYGQQJ5N/0I6npQXq7eKVh0oVz7vACarmHal6Pgxg85Da1xXz2B5b6q1e40jg0rK9MIUUfzZ7x46r4xIFvRT1BwzplURNYXIHKk1mgKy3OR8JLDoBap6sGGRDGoymyEAfD5AviAl+n7gs6a32gNK/VUKoUqz1w7YGKAQwflaBCDHrAAAAA4UGb2kmoQWyZTAhv//6nhAAAAwBbP6QRTDK5jLTDhIJNNrE2gTlIBV46/usnPklEl+ij/eBQ5uptc6pWUG/e8Ue8GRLabHoMlqznogtx9IYZm2DCAl9t9rbNlakP6qYqvn0R0j058Zw5XvcVyrRWVsWpJTUE1WhEs72R+DA6aYSeB9iXnFzdo8T824my3nWtrcigl5LFk9gyTkHkAUpppBWa5lCf2CafgccID//3RR2i01ZRJ43oXneNjHGopp5U3oZ6O9bGpYTqETcfGxkcGDNGbHQeH1eIa8aTeZO3nAhZgQAAALhBn/hFFSwr/wUTYPMrpOfKg8iWvE5xmt7RNu4Q0bv3EwC1QagjIpr1CK/5dpg+7GAoZIwNuRhhLfULYgj95RZke7mmI4AF0EKxzaAggbhC1bCWMkTzSUN2YKS6M73V6WRMpHNyv/KyYGGkiOml5Dw+oIQ+FKg5XrM8gf0UVBgT4Dy4TMWN00U7BzgRNq6TDQieADpbc4NOP8rawYrd0HKXJV9yrQy5bCtvzPnvjx51a6Ty8anKeB6RAAAAkAGeF3RCfwBDWtTJhmY8+3VSRvnen2B+b5nNJBj7s2E97p6qIljGeL6fEABvf9KIfiVT6lc7pMDAE6UbZ/sc8O4qFVK7tJMxDfGXEyovIO73KldUFfQYobM7H9mnMIqZvYpNShr9xXkVsdIGMC2u223WEL2wHuz40D5jhy979zHfbPzY6HwkW9m1+G916phl5AAAAJ0BnhlqQn8AQ3c3hu7bF82ECSMsv6yYGQQjWnndmEptnH0WQAcWPnNQdl1oevSNXlQ8AHcxag2NKi1mHEmLu/YjZSuRdpfZWy9dAFFcVop03U8Lu7fFuJOxRJwPKjtUZU4UOLDVjFTEsdHMGRAN4H6Il9mUXV1sFJ/ZKhrztuiTg0ySACxYTxTl6B4zET7+ZQZWagyDL0ok5pvf7hTRAAABDUGaHkmoQWyZTAhv//6nhAAAAwBbOZdo5vhYb5QAP4A3rna759aj8uZMrZcfIejLqWglmsBxszoLldnmRZMxh8FyDDMVAOw4L/JkFcEIQT9nPneYMIS82xfGPxwcz6OyQoZLI3cz02I87Oj/LRmitJizB550LvJu+e/sn3arx7bNsgNRAsnFRgyeg27kLLVkX1LFPyrzHSWbh/FKLXPjd2XGEdQykLsF5RLMJ6l4GFOsw8nTBVnrZDuLdhvoLJKvWb+dOyR51gVwNdoLdy2E5zzdA4xDdBMSsK0R5MJyzgvRy5PfQ8Za8uylMsjWdP2SFI3Ec31x4AHO8gY3H0Fztg/ayWSsJBthQOt1xYAgAAAAu0GePEUVLCv/BRNg8yuk58qDyJa8TnGa3tE27hDRu/cTALVBqCMimvFpMCJbgCtThXTJ4zCUKfxlq+WDfpjHu8LFWXQzqMAxa/VerTZC4cSfmVGjX23SUF/Xg1gGUEY/I2ZGUnXgWoZqCvPtrFNfW9mO3zfIekBR535uVvQNByf9SdEhbEA0vdjCM0INPYFgevtb5I3swTLdyeybMGraoNIBNY8asr07vuVcuXJbro2vlzc324XJcOC+LuEAAACqAZ5bdEJ/AENa1MmGZjz7dVJG+d6fYH5wiYsohL4o4ABD8gVA34utMoG8NGarOnkdphd4OMz7NDXNPi2SbH7ARQKd6Ba/N0gkfMoWVcmWyOCqld5/mYh1ATGKpTV3UVMaJJQnOiM5wg2URhk/C8aHDaKt2kqVi8nDqGYkDZD/LcDUVFwWE7uszXSl+c97+jQfkJgwCMTFRTMf19Ma5TcsR1sluw2JDFLNMqEAAACxAZ5dakJ/AEN3N4bu2xfNhAkjLL+smBkEJNZCmY3gCt+V+b+vIsWSfRv6cKUnumarIivNvCpnPjlAJ8m13efQT08AfJEV1ek+bGM02EWq/HHXq5XUOewkaDoNmMQuqDMM4/v7pTMnBhxFVZ8rJ8ZpD9dehHQFSBqCJj4FRUNx42lG8HrM8gfugQl+NwT7YzhUbpT8PRkEtjvlFkFPXli5f2jkgGIgqMhNgeq/i8guMHpAAAAA/kGaQkmoQWyZTAhv//6nhAAAAwBP/eFCjDVGANK5fKYYDS4PsLNkb+k7c9OSHDtCJqrdh152arppMPS/MBSSiB0HsUNXjyOAJdlXk4WsYlrHwdjxY1HIMEFoMdZQ7tEnSO/zA5mpcX3e4FUp8VOosB1Mc+IecjVNWZvv98mk/DB5eXTvyBQw9nFxiWvPb6T3L1YuonhAaZdbQOUe/d2p4/tygOS2NP88tytYds+tc7EZufT3tOs7vbQPmEsTEWA5KNq8x4fSX2PDhjmGtpS7xinsIuO3PsGhz25bPVMLDbUPzPbockalornRDKIT2csgoArzxU4fiqV/29kzil9mAAAA2kGeYEUVLCv/BRNg8yuk58qDyJa8TnGa3tE27hDRu/cTALVBqCMimvDG/fn+ekAUFSd3wjta2U1D2+kNAp+JlY7DbRBJdiaegyJnnoCQRxL6+c91sx8fyxCcimuAeL/vqQEs/cjaMDIkOFAgD8ZjH7uwoYy470ChKawQ6S7xd8jf4XQuVjrG6ITl9xggUbyTebqchsYKXrykSe54dp7r42GWj2MXDAy246aALwaFUViQy3uvZlMRjgtypKSiy8dWasLkaHVjMFxCpmy2TgdS+x2MOkTcISMwJBaRAAAAiAGen3RCfwBDWtTJhmY8+3VSRvnen2B+cIJzXIAAFAUfMdKz1iGk3xBY7xA+JnA0hG9YKwnTkDy87QDdh/ukErNzDYhvauEl4r8kLnYaBnqDUnVjRwuYOiZ41txoiqCsbQHnBEHleZF8EMyqCUIDkefQmU5deZM9OEDAcqij+dM3B1sEe7Ggu4AAAACrAZ6BakJ/AEN3N4bu2xfNhAkjLL+smBkEI9eNzg9ywAOjexctMe5/iqAJaHHFQublbo5cr35InvWdfZArJcDpIp26nxFbIV5BuSI61BJhStDYO1TRiN+zPQTfyLgoWc+BxhgIlht03aQPch0/81ltXY7mqSMmEnXaOG7BRgNI11eQEyvklDGEaD3tRLWKdYWvsJVG2SAznzWW9l1aPqOOm/F+p+x1JBJkWZvRAAABAUGahkmoQWyZTAhv//6nhAAAAwBP+mYACukkW65Bd3m4Dp4IvW6qMMfglOqlqV0jf14kgprPCPw8vIfMUeviakE1UQZteXpWRw7TUp0IIZytMxWMZXdb5x7zPhm/ZW63w4q149rOn5YiUTc4Vpq1CKbf3EEJtbIFNUmEMCIVyKJLt+wx57qwwM/tyAaAD+ydOzX4Q8wiDh50DY4G625au+6hE3glnce4oOk9dbVyh0htwp9ra6O5zGD9tG3j3rS/tcILBb8aMXiYrnw+I3FhS3Ngp3T8SYFIJ3bgd6RRR/soJiW3qUd4OQJDBINLhJvWNU+TCdOYHeSkEIzaeok77IpgAAAAzEGepEUVLCv/BRNg8yuk58qDyJa8TnGa3tE27hDRu/cTALVBqCMimvDE7/5/9uACgiyTDLd8c1jqHDhFZKNfoCcHJ57ziRo8NCi80iSRz+OoXx7IptD+LZRLkQSNGAaGQrbhFLom4grMkJpSuFdnzgFyLP8tWzmzNMuWPo5e0nkofWWMSdEfznOoijbQeFqBFkr/B4hBqQUsmXZoUqU+Lal/sB7s2DSZjbREKXgUGeUgtYmG1955RnlW3z3vQaCgrVcZ4zMR4suctFUtoQAAAJYBnsN0Qn8AQ1rUyYZmPPt1Ukb53p9gfnCDJQmYCAAvHp3LeXrlumKc/JiBE92bmeGvLlN1HG9Q+wkq/N2uGTIAqjTTCPBb92s/c4UGUqjD5AtpYcmmpyAryVmbPd1Z8MkgvW3ZLlUUsxXC3q0eVrEljgpDkptE4NOCEf8ixrO0STIZDhvG/vxa5UOGSxtzvgBqFOVYDKkAAACIAZ7FakJ/AEN3N4bu2xfNhAkjLL+smBkEJAiG1rmbxxoAQOOD8OObctcgDZbIRxFhTepU7deiutZRfxA2K0UAj+zbKH0/CIHKS9c+mFGXmA2s+xFck+6bDB86Jb6Q6959xbKxsqNu/3QfhQMvlGMF0x20ldVgV6FKnyZBCcl1Z02z2ydmRVw9YQAAASNBmspJqEFsmUwIb//+p4QAAAMAT/3hQcfux3BNVbd9hxcbqmEG9n8Abe/MEQn7/4n0GVbaLbL5ZmBfoNogfe8iCaUl3wsfJ+AItR+fWxOb7sWRb2cSUhJxu9zUgp9NNzUsBUFXQjYNFNDsPS2d/Wr8fIa8qPdUeN4DwFoPnZqtVrqTp002LyihZdvdjS925/1vkDD5vt12TuHFO4D/VyehBthzFGvESq8hLRHMwh5VvMYOBwAsf9dsv9j8YHnWdqTtUoRPwNHc7pUL5rJwk9ylKVSraMXxNwPLl1uASm9Nm0rfcfcoJBrg5z3f1OrbqqrW0PRTQv3ZrWK0eRaQFhw9cU170Fqfqo/RXxlg+Qg9oWLvpdqjFWDHUUjLiCZguv83hZMAAADgQZ7oRRUsK/8FE2DzK6TnyoPIlrxOcZre0TbuENG79xMAtUGoIyKa8MA1FEQIAoNnpzTq8bv9uBunlvdB5tzCHPfWfKr4gLBHiLEE7Km4mfd5DKDvM3zvpG73fAAN00SCLbGoSdVNrZxAG7Q3euYgj+thcZ32VLp6gIfjUbICNPiM0UxNJfVsQ9CuyhPwPH336KbuWB3KXU9WERDxko4bKeokAwqsXX4lAp9tTdhQTUivvw8ERa3JWYQJTVEPEr4ztb2Uop1cV1Wxug5AAJCMAHDLSmXqWKCvCqXwsxgICHgAAACzAZ8HdEJ/AENa1MmGZjz7dVJG+d6fYH5wgnMH+jiSAOYc/E7RXV30tLoSzDO82nUeZ4EQHYrWrcIujnw8CkuKWkXwPyFPmL9YbBzHxgOQ2XVeqPVamhIbXqCoGrP5Vm9S8eb+EbiSASchV1R/XrH1/xzu7EE2A2G9lvUMMRada5CroPx4QPKh66qy87UgN8p+dfAxMOn2u1J8PUa4PguoIxwyQIitP88bnarN/duBGTpQJeAAAACgAZ8JakJ/AEN3N4bu2xfNhAkjLL+smBkEI/JI1Oxn3cAIPxuZ5m7dTeb5Mse6Pr0FD6IWmmeremZIhHfeWekcH6iKt3w0oHatIc1PY87DT9eoBfkA5smoTKfCeY3/BY2l4NnYBNPcgETdDsK3kyOJ8SGZV4IF3DHpgKjKhpP/GiE7Cm55yGg/H03NW7enM+1h08TU/cW+20Yc6Djx22DKgQAAAOJBmw5JqEFsmUwIb//+p4QAAAMAIt/nD4MJEBiwHLeyYF8F1LvupEwB47Qj8sGMJHvCRj5JEh8z0W1e22cfLeg6qILA8Yikwnzi5e6XZU/D5fFHs31ciG7u7wQfK9yyk1Wx1XpasPtu4Y3eVC7n5+vzJIu9tDAYGl+N/9Q9xnNqGZytYSS3/r2LMT+o0DNbI8hVP03C0palooBYpjW/dy5wXyjjGN+VcBTtjseE040AF6zAa93/XXZ9nhemXBiWKfchlTs/cxtpWrxtfKKRaH8ulTllG8wmZ3bmx58timzWOlXAAAAAvEGfLEUVLCv/BRNg8yuk58qDyJa8TnGa3tE27hDRu/cTALVBqCMimvDANRQKsAVvKWuqnZnlgXKCm7S/+PX1BYqefXsnBDDO6s9ONENNl/CBuy8qDGmz8b5/wS30CdlORSawhzmiMLXdhw5MYhjx7fqwbU9WSorhIyyq3p39jv8OsyRVY3AH4xHj6XV3mXom761shV/Njr00eNqGwdjsS9Dio5gsE1ooxdeP8hh1rKq+0JHUrN/6SZIBKhFwAAAAjAGfS3RCfwBDWtTJhmY8+3VSRvnen2B+cIJzCAHYREALDkx0EGnBm+nXsJX/EHjETbEQSChK4j1JXwsR38Iq8eEXz7Rf0FTsfP57rGd9xjiDd8OLJg8qdku4lz5KcJ1CuLmOmFUd1/fzoFiAuv7NBjr/fiyoPebCY97RRWovbnHF7qk1lJ4nAcl8XiOnAAAAnwGfTWpCfwBDdzeG7tsXzYQJIyy/rJgZBCPySO0f8gFrOTK0GbCtilo8AnPZoGcHiN+e6z2ReN0PAiHoRjAPka70t+XjqnzkuaVLnnHD3ifGocUsgsx5dz+ScADE0N2B04MbaiCL81PqNDUabPMbkY0PamD1IZ7u9F1jN0CHz8r6Dd4n3pwM2FN5MfipkCroLsspMWy8xXZNaeyN/nYFJQAAAORBm1JJqEFsmUwIb//+p4QAAAMAT/3hQg3/NI8AHx5BjikeRk5wrzGSZl91sHyJSHhJ2slKj9dopadNIEJ+v1aeNQ+qazdoHQFknJN3voEJn/bPv6WL9A5bgPhpjKBZEEyMWB3vmRMaAcyl/xKZwAS73ZIHVjin+sWIjWe8rjqU1jl1ALSarJXM/PXsB85I7iWk6J4v2bltfQqbnOGSUxA0G2mfr1B3+eBHAWf/kL5lRbI4fOAuYRBUX/YOdE/KbJTmvA6nf+yRbzpA35zyGhGgo8ECtBA35pOhmc/21d6SvyhdhAkAAAChQZ9wRRUsK/8FE2DzK6TnyoPIlrxOcZre0TbuENG79xMAtUGoIyKa8McFiO6ucMXDg8NIVGAEH6cLar0trJq9MWE3dfbTrjpGcPS8Lun4SzzEQSx6W25T+bnJeKMNwqPGb5RGeDrtrCrjl3vCGl2Kj3pVhSJF0+WBG2czFgpomZ6J9YX4sxbfcL2PDBQ92oz8E5Hphr6lwWIyDygSKAYcr4AAAACNAZ+PdEJ/AENa1MmGZjz7dVJG+d6fYH5wgnMGv/ggEifnIAaA9YoG+Iu/q4uvaeYvvThVcofvFt+kSdoBAYh3bX3mYrQGxQED3tf+aWuuWRecjX5MScUmcojcxKwus0B5lr1pNk8pdDS40YPkrHf4Cq6753meNTEFyIYdpHrgL/SLQzbBOUScSup88AZ8AAAAaAGfkWpCfwBDdzeG7tsXzYQJIyy/rJgZBCPhm79/xEAGzZS0DWmzBRnXSKh3p3ypW3LKJ1fFp7iUPoeqBI2ZBt4WcRh3A35mmVC0UnOk3QhSdcRoFFzMU5M9iEDdUGXSnc6lF1QfgOOBAAABHEGblkmoQWyZTAhv//6nhAAAAwAm3IPgi6UAAukQlKkoSUP0UBDd6Rrw5ZNyndVfwtrcwOkDsrhLHAAs9eJmgEIfEpxcC7gKEV7BXpjDlU1IorP1l0OBxG9uK1Y8MklBl4vkwFNsEzWG8OvUVTy52pP4jDXkJZ0hHzrft5XmI0D8bP0DSuMwWiohTzmlF4boU6uh4aUXedAg5Kv9rAdKTxNUmUHXv8hD/juO03gp4mr79823PAuogpKpJdwZR/Di6qfPWODnAfYLpcwThcP0OHPoOmNUa7H51+q1kE+eYouyUa6wCRn4Y7Us5+z5iN0lnlQFzEpWvTpTomXvAy6ptpAnnfuk+ls6MkWmH4qesJH7zI4mi9avy7jHe49qAAAAn0GftEUVLCv/BRNg8yuk58qDyJa8TnGa3tE27hDRu/cTALVBqCMimvaAH4lg9CXqMwAi/cL9Ui3Pof1d1om2OfImXsHHfzdsmOQGuYVcwevbSmBADeo9rrrCFaI58n6/ReqRm77OvPXXIF+Pw05v9sdn6LMP/G2PWa4PsP6Kb/KwjOvbu0ogmp26AWKB636cZmlRDx6gQooO/72y3hwF5AAAAIwBn9N0Qn8AQ1rUyYZmPPt1Ukb53p9gfnCB7OP6FQARB3AE/kE+NjKUceRDgY3ipAJIywA2tOzbnjbvLn138bSuDwxYJR5E1dx3R+dp5Y954Tk3RfU7GoIdEprVYWpRCAhL33fFYrOSKICe8UzoL/oxAEgpZJE3xE2b3UQeOSLHdfMNQlueADx0OXh1QQAAAHcBn9VqQn8AQ3c3hu7bF82ECSMsv6yYGQNctDmRebCu4UuHuZrDgBx65nhlVBYM0RPcZwwUGlLSXdzNuzntkrqUEWoyon9U/P4xiLqZHQHzZJG/obTZdnI9yYzcz8E5bprornuRKLW3lTwe2ab4UJtSEeQSekDikgAAAOhBm9pJqEFsmUwIb//+p4QAAAMAJt8jaz11Kz/mQBX3oYHGMRIfd+llJ83nyw9AWQJsQi/napoT+XbWkSXLTnaSTneSIph/T6YHp6LSdNcHBmKl2MECLCQzp4eNgcVsI/Y7mOH3iH1Go9OcVYaHKsj9k62ieSI2a3KrfYlonsNUe5AfZh8fSR6mD1UEazMHj6rBwQ/4X1a6p/A32OfzZtMMbZlO1CKyBNLFq4oqwXOZSFxBtoFJXej724kHpx6K8uR82k4hMUGIhH6wTYRhxa/JtOXTltC0P4/52wYHYyFJJO1y/EUWZBh5AAAAzkGf+EUVLCv/BRNg8yuk58qDyJa8TnGa3tE27hDRu/cTALVBqCMimqQe33sAAlJa2Os17gdaaafrq33HB59+LchDtQN4r+j/OWmPf1Ao3ym/PH17eS49GMgjaPkKQ16aI/WrsEdnlGTrLIuOsiKEZy7vmcVRVbdKW3nHuYg8mXaZbGufBQx9sacT0uXl3oc3iA+q7S8kl/FwnKZ8DZvacuUEc8RiGBITNzTIUkLNnv2JApCNXj8mz/mq786eOMFKp1LDmmccXCZ3OapFwB1xAAAAgAGeF3RCfwBDWtTJhmY8+3VSRvnen2B+a8ASGIQAUI7PopEij/I0iF2BmtviLV7dhjj9law/gRPkKhXIajX6pp8aXiICQ0ONTi0xQeKPEQk8zcqky5aMKcFaUB7TT2A414BVi4H05ip5yc+Nw0YogTzuEFlTO7F1UFSHY+qUYAYEAAAAigGeGWpCfwBDdzeG7tsXzYQJIyy/rJgZA1y+z1SUL3Z33RAB3b25+D9FsWB5ErvVMlSrCtm6b7kg1/nFB9uZ+CJOFiL6FOP0qStjddJDTzn1Ea5sBG9LX7Cd7t+1x/uuenu4tOSi4xv/bOGU5OkfAAlZ+5P3LbN4swB/k9knsV7YGsT7EkVymWBbQQAAAJ9Bmh5JqEFsmUwIb//+p4QAAAMAIbaytuiD/WR0TuynLGu6q8I/REnt8gAXI2x5Fjp7j0sS+T80eVpYgoMM52qx08bmsK6ft9nMexo8XVEA6M8sJDRZRz42pW5blxiFYIlXefV2wogyyoiB5xZQuAS7XRWPhdOwAWDYC9CTXVM09qGlxIqNSbKhgUjtJKjhQM4bCqYMjVRhJHHfiKuDZlwAAACYQZ48RRUsK/8FE2DzK6TnyoPIlrxOcZre0TbuENG79xMAtUGoIyKapBxX7eZZIzGZ4MAE7wATqw8dsPBfanFl6w5+oZJSHZx+1mj9Cg0m8BSWSj3rZBYE2DFlDG06fnUutKVQZMk8mT2w3wY6UMTDFeVVDu5kEXGMIckSO50ETsLNOXibehZdTBLF1Km0q0tnxWDSy6qDgRcAAAByAZ5bdEJ/AENa1MmGZjz7dVJG+d6fYH5rv8YcmBkoz5nYagBO4ll6zSiRjGC1jb69Do4yzY2ewlaUy/qR9P1ZCm3W9BBZ6qDalbL26s1fKZ2CfAtHT4Z8PFfBceUCr2VbZO3J2Cbl3SNLZqurENOq+PmBAAAAeAGeXWpCfwBDdzeG7tsXzYQJIyy/rJgZA1yygpkTTDMIgAnVqgemyeQS49dDsb0BPLJdJvVXeibLk7Br1KLf6N0nKKLo4QappvKHsrvkX4hs7jr2+a9X91z37++D2p7D2VH4cMkoHbayunRqAglBBOrMBe+RNIOJuAAAAPBBmkJJqEFsmUwIb//+p4QAAAMAIZ257dhgSKS4ArUOO1+X+3patgS/k/bxjEeLMDXkowCohnwA+D4RmyIupt99B1voN6Qk6VYKuzusOMfLLbJIdWSqq7Bl2yBl+BphQy7VObLQKnRpu2/UNi23b/nv1xiTfHBPcINFH2XGSWUsaAFwrayzPV0yv/JcEJHS2yRKMmc2n3+sgxgF/4XeauJmaaeUjAckOsDHCHqp7s8LHdLa51H/N2EicOI0lajqW0mSl9f6QMD5UEu9qND+Pt2kKvRLsAAnxNG+8INWUkQbcQJCK+nps38vIqaW1/ibDakAAACkQZ5gRRUsK/8FE2DzK6TnyoPIlrxOcZre0TbuENG79xMAtUGoIyKapBxUXO8xHeE0LsyAFUY5tHxmVYspeN60N25uBfIxjHGfJyR2eDnNEuniZWxC7f9k1saMFJ8SwM9CazrYoemBATjX59BI/3eDeUNT6L8g+mt3/JIuWMsKhVpAmWpF+svoVjvq0IRcjhmhHf0e/i/VpTtQF9xGNN8tQlPaMWEAAACSAZ6fdEJ/AENa1MmGZjz7dVJG+d6fYH5rv8Yczr4KmuoAE443rP0jmi5lq/Cy7gZOyX9QOh7WHxygXTcClWj9fJkGZv/cpjf6FOMN0XPbBtSkQRgHgOTmR/gwwCAPKQsFRlQstPpNzPdBm8nRX/1TEFFq9iiURW/LIiyaBsoquTfid01oqX1u0oucTYiN6eOATcAAAACNAZ6BakJ/AEN3N4bu2xfNhAkjLL+smBkDXLKCmIh+7nyAEjn1xY59QOr6tIiR5kWMUDaz6Tw4/n1HNbEUpWK+JNy2xdRyPLkza3uuWdEYN/PZLV8ihV1Cz5h8LwaqPoTmnyCMM8m4XYcJE6VEyL2aD6B7eosUTWX+lmcRyxXkb+LA/rjC6wX9r8Vi8N6BAAAA20GahkmoQWyZTAhv//6nhAAAAwAhwGpcLFKIAUJopNwuvfWj1Qtce1u+CXL4gCgYvflppz5996mDYJJDWo4aep0IY3/x8hVwoACkmYhFrqlqBDJIogjY80uurVOq5ffXNLguCszyTsvlyI0pVwjFWYsdOLSazFuR8mJuZ0ptxO4YNoHvVb82YjULPYPYMKVFGvuK1u430yThvqNj7yD1Oid0TsFSDi/kpWlqJVUECvb1NC3hchuS/A7nwLqJY7ANDxs7NYg2OE+9WSo2eMdRQftUTUL7ZOygPaTrigAAAKBBnqRFFSwr/wUTYPMrpOfKg8iWvE5xmt7RNu4Q0bv3EwC1QagjIpqkHFRo8oqKZAAQmJWOJqfqvjtJDwDz25m8tQLUNfDAeYeN/wHJjHyPuLG/YKf5xXUD7pKjG0Niav8yUt6ixNcg9nqAqjU/w1S0tuR6iLCPy6evlCEGYXiK+jiXFs7/xP80T5S/1in98fBcSKf0hHPqn0YOukglBeLvAAAAfAGew3RCfwBDWtTJhmY8+3VSRvnen2B+a7/FOxhJsn0AIbqMkDs6QW2T3l9HbCauvjyU17aHK9tvDm5/ZdOa3mDom/nrPPT8J2+S/8grbgy8KJkhSEbkZ7+GPCXjoVPNHPbjXpDmSywAlzTdyTiL2NskXKDVkOCn/InTSdkAAABvAZ7FakJ/AEN3N4bu2xfNhAkjLL+smBkDXLJwov2LMiCHGDLx4wgBysJwhbHbbw5hKQplKMYI7gqVEJ0kAWzZCvBOSFIh+XJ15Oi7HNDWIiixPiJJ2FcsqHXphf4fOHVJ1c4Y3s5MTOFxDtTxeEPBAAAA00GaykmoQWyZTAhv//6nhAAAAwAhpOiF3QAV4Rt/I9jIatWh4otj4cy8eNkGEyw6qNglAo2JQRdJQRFnc/wxrxNLofMlY2QJHOP9FJgqvP4RWPfUI/rDccE2CnyQPS70owYQd/fnko3MVzkj6oU/jeAMf7km6x5SV8qGvjysT4mAQxgBpyjAk/s+ATLSdeiEPr2kllfT0iu+eIEQ91Yn4IraPZelCpY1yZ4O2CC+u8LN+d6o+giNDTT9ypre5wqkU1znpyI0If87Eo2UIb9myxB6GHkAAACKQZ7oRRUsK/8FE2DzK6TnyoPIlrxOcZre0TbuENG79xMAtUGoIyKapBuELhYQACw+XYD0HcMkQDdbFeM5UsfOrXL+3gfPsUvHHjMf2Sdadl0ijePqlOcb3Ubv8l3NNeEQfM5xQQBPAUbQIAYkrM6gbJxXcPFJgLPW9BW/dq7QuRZaTP2jWBm+GANmAAAAjAGfB3RCfwBDWtTJhmY8+3VSRvnen2B+a7/CEFKHyEC1Crm7j9QALD2+l4eJCI6p8Y9XXCCavKivWLlhendup9G5IaDzytsdXt/fCRZbNTbauOGAXBQqWSurJGhtswhoEXYDpRnHSbYc3btm+2EgtU8fCmnw7bWmmPQb5s7uT3PokLiQmc/Qn2/AAMCAAAAAfwGfCWpCfwBDdzeG7tsXzYQJIyy/rJgZA1yx/k+Yyly//zmAGgPWH3qedkt2LuJVAXEno8ktJyO+yEmQmpdtR0E7lgvrBEVhpMb7pOPbG98pOzHJdMpg4PLC7HQefRRmCRvdRmZ3vLaJiUPQgRstE3jXgtquJsGbQTruAU3uC7kAAADyQZsOSahBbJlMCG///qeEAAADACGqyHmIAhkuwe9DjhV55MkJk3dwjCRjPL5lEfXb9VbVs0jwfDPjC0WmUNsteUwUOI38QV4XbxNefvFt+kSdqHLZue51GKtl1WXMvu2Mjs3Z5KgxBQv+pClndnE1SVm7tlIhauIUi6uFsDCc8w4rN3W9I2IqLf5ahipZJBf99hgIv7zm5xCo8ex/EnDld5Wty8HgOyfzWzumhWe/Ue5UplPAYce10CHlhJ3nI6sCm1L/E4MoNgV+tmVoerik62+MwGTal6UtbJICeFRJIJ6ZNI3UllXhnd3I5/9wPlfxYsAAAACsQZ8sRRUsK/8FE2DzK6TnyoPIlrxOcZre0TbuENG79xMAtUGoIyKapBuTXyNeO7EAUGvQRUwdagkzEYOuQ+LOZ32nltiNYpEbViwr0pQXftk0dVzgooZ3NYwqEU12RxppxztKkfSywi6rJwnyUw2tTYB1nzBHba0voLhBAgoIgC8OAC3vAVeJMEjSh5byhrJUnGOi82lYSxGGEE4n7qWCIL+8uee474YlLfRnwAAAAIIBn0t0Qn8AQ1rUyYZmPPt1Ukb53p9gfmu/whucsgs1qx8QgAh6mL0jLNm9bh+Lk4d6ecXMgCBPEGS8VIQNz/45ktS+JZHCbf6VihYKhyxBhVzhLEx232O2Op6T4z4FYiyuRETzNd1tU7kKH+S+QVK7xZi+C50Sb9hr3ikB9gT2BYG9AAAAhQGfTWpCfwBDdzeG7tsXzYQJIyy/rJgZA1yyAonn9iwBt+WDl5Q8GRMn+Pd4IiYBC+cpil7339o33qCIfEz9WMOEFQ1Z+IHSe3IttrKRoK6rFkBuEvzb2s/Xqbhv4b4YFS7nL4nRLrpx3KQIImtw9+c7X+mDX+izZnvEwSqzSsHXDiUALKEAAAEzQZtSSahBbJlMCG///qeEAAADACHcg+4DIdQh70AG3lkk5f79juKa25rNEGTigWBWC3d3f7FnkhZW1o+aK2VI1PdwAaoGd61mLI0XAselgfBTxQaZJqossG52Anb13Qk0FgB2acEepIcBky9s0HznufOVTCEhI+4ER7/LnELR/vdoxXMYvKGrjURveooy+EodV5YkABaH3a88+DjcWnKucCwFmkBXNSD3BEALujgc11lqVoQOiB5X09MevGq6KG0LmDOnVCl0ItHu1MKw804a9FGTXSov0mrG2+jdg2EEq7UMWDL6xbb7CLLXLd75qt7GExn0z7TH5JBeq8HyFZ9Ck+2cSrcB1mImCvxxu5cXSjOrhalUPkXaKaHDxaojRewe3mVKKo9G4Q6eYyEgCGasPFlWwQAAAKlBn3BFFSwr/wUTYPMrpOfKg8iWvE5xmt7RNu4Q0bv3EwC1QagjIpqkG5S2KTDMk4ukaJricXaLz0A77ADc0jd3MU/TZBaNCNBM1TNppRfAbCEa0uVw5rYSEmf3iM1FJoRqHwPKidYikLvzp55qGgfuT0faIWxKKJgj2YeHTIct1BxHSYLA0Q7xX6MIWxlS0ehQaRXDZzpvb3cleDIBGnjjqFR3lwtvbg64AAAAZQGfj3RCfwBDWtTJhmY8+3VSRvnen2B+a7/CHcWaDIPswyR7GAPuoABA5u3oDsdMPuCuvNYAQed8KwkerMi9I0qp86/ZzoCFlKzUWiJVVLz1/9oHh4vfvbXRSW7wuSUdFr6hgLiAAAAAmAGfkWpCfwBDdzeG7tsXzYQJIyy/rJgZA1yyAXyvP6CbTEagbQAHBzfm/9Fmf44S1ZIj61fd4VJY02vpMdlpPjTZv7ZDH1M2mhaPRUMG79fjRmNLAs8zqAuM8lmZXiengounijVmE0c5yIlKvObV/q9gcNkMKs0NSFywqER+8HkzqTz+9AxlSpXAcpcFYW3ZyzYxYEfjgAhZAAAA4kGblkmoQWyZTAhv//6nhAAAAwAhp/aIDnGmZKvXYf1KxnXsRYAg/+rh4N7NTORpNnP0uf9++4T3fLv7Jf1u7AJlLDnIEt6JGVlpOpgcq+12bwIZGenhCk+Yhq/sG9zCPeULaDrEr4Wqnxn23UXHzzWnvmdUqfSvLvU24e1HUwe3usrYZ5x7G+P0kDOjzaKRAgFxZX25bMV/vrAWQsj8MD4ZzIypvYLQIc7kCZicnkcJKOqE+CXKI8lCP8EkZQBIteyplv1/crNhJVRgukE46OWA83R3dbX1D5Kl1y9w4aKB2RgAAAC5QZ+0RRUsK/8FE2DzK6TnyoPIlrxOcZre0TbuENG79xMAtUGoIyKapBuUdTQpCKqVZb8z/CGACMjr5Lq6PA5Nkry8Rh9ShX1PhDhzccshftihh0goJSaY4rxAJMnNhui+G968wnPkkRcGeiw6uGfiTuiV2mJDlpHevXn46U4mLS7V7ZJPzQxrHy+MC5KsdbfLCupcFutz0W/HsY4i3dtNz5I37mnrXmtZa2091yyEWvB0tryfChFPYUkAAACHAZ/TdEJ/AENa1MmGZjz7dVJG+d6fYH5rv8E80vABLurHRUHQAhOWSFojDtMdNgQfN0PQvgXvuO9wu4FyZDdq/HjMQSIv+SEM4QtZoGUh3Dn/q/QmPN/Fu7N3Ff/DtzOrUSOIFXWYQyRwjIzpg66lhh4rMSBR13C7e6B30oGjM8tRHDyZDAbNAAAAbgGf1WpCfwBDdzeG7tsXzYQJIyy/rJgZA1yx/10pfunqGEALDk1KW/7r8mAZcthy0ql0smlXcKq2rObIq6JTpjDbB/gFt17VOfQp4uNb6EegPw6Qiz4Wh4PU3yFq0WTo2zB/Jtt3OR0FSezvQAhYAAAA8UGb2kmoQWyZTAhv//6nhAAAAwAPP7KmcfUN7gxEKMr//NqAKnDqwdKkElWL3DLvmKBFY3HuDeb5aQ1LjMDgJHdj2VD1XRrGKYIBcgmKnZT8mlRvryEzTQPNI06AIm97lWlzuLFdzCw1cC7nKOjubAlIsj8prZOPLWHU/bpc1Ge8HIILBVxmLNs4ZgreJwNt/K3QhLCxPuBVr9c1/U3A4PCIuekfV+LVOXfTGWPs7izn+k3WioGWQHdN0TqK8EyD8ZsNBGcC5cLNJLCgPY7qHNtyLe3i0ncicFbsSCR3+1KXdo9Fui0otBMuYnyHlEFCtN0AAADIQZ/4RRUsK/8FE2DzK6TnyoPIlrxOcZre0TbuENG79xMAtUGoIyKapBuT2KtAAVC3FhQVE6Gy6oY8Ew3IrMgi4xjAdIqHs1QjDPGlKqdSzK3khF6aoUlVsv7iBGnWpGmL7Cx5lfIYQXFthjNQLiy4P9fQoRkxjHSKdX2qMI8V/9JOsOhnO6zdOzjf872E/+Orsz0FPzr67EvvZYZvSfEUX1hVlKUFJWAhyBkxF4N4h725AHJb6uMlesj2qxdwmdHH0TqPSOzYoIEAAAB+AZ4XdEJ/AENa1MmGZjz7dVJG+d6fYH5rv8E8zKskItK92s4ARFbWxHMDCRM73WEKXHriWdHBMFaMxexzM07oldOTSx2HQ1LpS9SXfSQuf0CKr9GIpaZLfCImvANyy5D7fVgz6NIkwxfNJOJuH5005raDZVPDl6THG8yk4kPAAAAAYwGeGWpCfwBDdzeG7tsXzYQJIyy/rJgZA1yx8LhNacQVJIjwBn5IFFFAw0z4Vkqp03SGP01HGChMkDmmlqP/N8uxRAGXqwPko9TpTt2pNo9hOo4ifAyaio6S7AP/bPA+UHOQ+QAAAP5Bmh5JqEFsmUwIb//+p4QAAAMAJtyD4LulAARigM5Tmoi224Ho9DZg9a5QMvNse+Rp1m3HcbiRb+ndUX20MvB6rOIJjdwd65empwALtbpgQoY1COOXFICchpTeBZlOfyO+jGfRgA9XBrGh8jwvoT3B0ingDYtyck6waGV6p+7Hr7sicssgMfwMQ8RAOQtiCiSc8VUljOfWpikSyLctVQFA4wLse9JMCwDlG+33qANBsN+0ZUEBUBWuZHPHDtWBli1eS/wp/hJaPkaBBeV4zTlTIaKt2PLugs2KAr9VPaBCaXbPUEA9MBmg89bkmoNX7A7YKcG17anJsRT1Si5SjAAAAL1BnjxFFSwr/wUTYPMrpOfKg8iWvE5xmt7RNu4Q0bv3EwC1QagjIpqkHwtDtfVHCoAFBr2HfqAFkYqZxIoBtzmkt6NDWCOHzPcbmCwtTuVGzvP0a8+T0BGIV1OnRl10OFvwpN3Eiz4DDmua04XIBTBmouOEgCsNDmoETUs6W3Ql4a1q/g9QcotT+vF99gqnlY9mTfN4z0GBsRJOPuKlCevubeur3KqKxbqx2o6ZXut91twTFFF0ju7+eCzSjMkAAAB+AZ5bdEJ/AENa1MmGZjz7dVJG+d6fYH5rv8Yg1DAu9hc+nptcCKZqgCuZ362sAEoZ0tWoEURiHdw3qYeln0zqOaCJgnnwb0XQlWI0tlS2uSBa6gFFYL7mfLl7HOb73W0wVibtgnofRCSh1aBUqI2Y0mxbAj8+QRGdwg2LPoMrAAAAcQGeXWpCfwBDdzeG7tsXzYQJIyy/rJgZA1y0OS1ksu2EiPnstBvgA2DRc4ul8rsgusvUUItcf58zIRLeLEVma7/5/6gh3is7I5G4UiMvgc2sG6Bng0n9VJfFumdFw7AelzFHk1vlAu8L53XjafAzuEXAAAABHEGaQkmoQWyZTAhv//6nhAAAAwAm3yNqN/8P4ABRB3Q11z4AA2k94PqlfdB8Kgb+lbEcgnjVL/53udLvwSVYcCaxoQONKU6QQdsIjPv906X+3T83Ndz/SUYebO7nUUe4k8eYIZRUxHtU09/Cii82NAwO2uBZqtaxjkGk5A5sLhlYAWEZJ9LLeO55tenEBOrAGqHgT6LJa33/06DEW244bxu/XXGeUzWIvxzpQJobh5jxrz/C5t43hXxfhNjYBJ+HlK70I2PU93Y5cjqXOcUlnFMpLwIB1vLM3Xo6nMzDUH99MvJrdrAxDgBDQRkDSQQOtMtjzWC5V/IUWyao+LKFq1a+nXxueGef0r4sX5kFdnDG7wLq5uUXCK2uXLMuAAAAqEGeYEUVLCv/BRNg8yuk58qDyJa8TnGa3tE27hDRu/cTALVBqCMimqQnDVUAF+KdZdKHiPAdNI/Acnk8HL11iH0VSJy7pWF1BF/3oz//+8OqP4uF3w0FXSs/NLUpi2os0dHytLy0/gAr3hERZgmLReXLTkB/zglrLAd7lp1/qzwf9W8nUm4mDov6l25I0JZff5I3UTYm1j11fkp4WRgNptIJwWl0bEgpIQAAAHoBnp90Qn8AQ1rUyYZmPPt1Ukb53p9gfmvAJFmDsA1KXWQ8Yv2W/SvAKmAVjvnITQhgifASjHRIEVoCsRTRHvSoNMh31u0T58fZYx6Ze0nzXrEI0EoSTytaBrq8r2YuL/oUVUApsXJaSJExrT5I/YHhe3cpGYFLDoIHzAAAAJUBnoFqQn8AQ3c3hu7bF82ECSMsv6yYGQNcwijI1TtB1L1VTk0jwAt4zwK+PNHlVOLcSl4JEigHG553DqeQ0uB5rIGH8aSaVOqxOcPaCzztxv7GPg0B7ldIqMFX6brcteDPTmwHymd/N2aOIIWf6Hs+6CcZpMOimLhm7PWIxi9RegbfZZbT4ZX9MHqdvkz8IzENoAdTQQAAAQNBmoZJqEFsmUwIb//+p4QAAAMAIN03tRY1XIS6/UANzrSB9DzTXPdgZTdOJg+NX2mMuVpEscUjKdm+er/75TzyQBoPSVADfVlM/XklQvOp43sJfUCT7zrov9t2xp9fr4pLDu3g7T7dGS72z9LYw2Gn62Ml2eqhJ/UJuXlw+eU6jBUkJkedVX53wY3Dq7ZEIgPddhi/d12D4ILuxQ9cKG6FyOEX6RL89h3ecaV1v9LXG2H73nPVdmgUctnj+RuaTJfMhKBlKJTnMUksyF7blMnQQswVuu7KjpHHYjpafMNWPgme1wytBGY/IfoI4R1TRZWCrIYun8N1BymmxG8MxiXt86RgAAAArkGepEUVLCv/BRNg8yuk58qDyJa8TnGa3tE27hDRu/cTALVBqCMimqQbGAi5+yqyGgjQATrOWRdzG+ynM7niaxyaqiEZFVhSixOF/gORu1UPvdLsmXIxDrKUQOq3oPzup3b6BKY2gY/4QPcRa/CP44r15EBG7ehetAPe4ZTv7IYnHtzyFMCAGals43BYQQJBTxCCfMAFYy9BgQvrqzCfsPmPXRoC3cxuSjAs19xlwQAAAKoBnsN0Qn8AQ1rUyYZmPPt1Ukb53p9gfmu/vy9cYtFEXwHAAuo5cYFfJ6XMW8AlPN2rpsKLgap6yxFi0rCw3pp4b6oRhCPgL8WYnl6MUhYcBWCocCDvB6sOgqdrxgGLcM4p7YaF0Cd2HPuXrj8ARY4hUgQ71eT+Quf/VSAW+bH/JUbwlZ1v9m5ZZJ/DpEm5T3CVnvFy+cynlZGh1ygSTe9hr81TzD25EUodMQAAAJQBnsVqQn8AQ3c3hu7bF82ECSMsv6yYGQNcsG/l+JKAK79G5IWbJZjVe4IE1GT1L6T5r8GRmD98Fja1Hy6CfmNIdBf4w0Lqg1DC/AEbmf1yKVO7bR7Itxk/N34XFUQf/GcCKaZVBVpfMtvwtFaqtQnkbuSbvmVSs4AEBGeMfHkTQJuOc5+XncRuckaxAYsDZJwcugd1AAABMUGaykmoQWyZTAhv//6nhAAAAwAOj7J0gvwA4QunKF+3ELPgD+0/cQaj08jP4EDfGnsOQWbrbo2VEkNTn27jZlhYwOYvvmXfOJ/DgKS2ZBsFPBX8y0bQkFZ3xjpRsDSmMoQR71VcBX5K5L5jhQ74Wo8cxLladCewjngr6uNNDFwQtGEp8sPz8tEXl6PFV1s2Z34PlveKmrQeYjMbkkV6YO3eg42tFgyuLOpp/0dNEjAzQfrxZTaKg5W5iThyFqT2Lrs5x9H6vSMooQZgBNhL8esmQsKJzH4eJztv8GBV6p+tBEc+jK6CKYNklOXrN49bgP1sJBSfzViF3X1+8oxMfTUBJzTQO0GOJegnt8EXFc63vM5t6UPggt1mhP3XRlYsnVGMj5D5fudDSAjF4kBabyVTAAAAwUGe6EUVLCv/BRNg8yuk58qDyJa8TnGa3tE27hDRu/cTALVBqCMimqQbJtpgBYeL6uc2h5QSbm6tU1oDZ6ykJ9OaVnljPJiB0cGQcyepK9xO8bxnIvBh/6BH7YfcrZ3bCipxkIoK46m0MuAz9cMCZo/KO4hw3E+8gi4xjLgpYEKNqPxtmigZoWPbcnAeGOLlbHz5bp2Qemkqzvarn5Nv2/zlvoaum/UJ1u1KGcgUZMWt+sYko2bHJKF7ZdJBnnCA44AAAAB+AZ8HdEJ/AENa1MmGZjz7dVJG+d6fYH5rwBGZ55stXQpsqAFIubrMc3wvv/1oj1WpusTAPJphqyj2iK9J0s6pS3MvUP7jMmRGFW7PJ5or+jTTfYsduc//QTdJK48YhIW+e05JwnljlUfoLOqaqCuNyIjYmMGAd/vQkLheVAHpAAAAgwGfCWpCfwBDdzeG7tsXzYQJIyy/rJgZA1y+jcYg7B2OAOJwUaFcDih/Hcv/xpG8l/DV5c6jf0AWrVarvx2pX05Qhsfe/AWUEH1rpJHjBj4lxQjzE2hgxU0p07LIJL0esntbpCFe1pc1HUIylozkctpQirCDHmc44XBq5YToqdN20A1ZAAABEUGbDkmoQWyZTAhv//6nhAAAAwAOInjnsX4HaiqYAoVhJWiy2GXoths07IfL9vFh/uEu9aud3ax4pI4lxBhbxxgdj8MY6u6sLBH6xW45ipzMc7c6Nrad0TBwplDfS48N1f3adHMTD9+3nJE3/qh0y4i6wvYdtE8pxuPuykjYnh6rRzZeVcBw1cOc2gc2EcYq6XnN8EW/ZZUc197+fi4F3OftQrWoyPdujB81WZ6oH+nPHFk+MP6pX5v1YoB2up8innhUL6Jm7jXNhAwvHg8cn/BpVdJFLDvFAI9FLtbvs0O3EKa1UDaiXNlnm40zmLIHb5SaZVH9DorHDZznsGrjx2BqOEgDWewmR2E0/rzaNhXLiAAAAJVBnyxFFSwr/wUTYPMrpOfKg8iWvE5xmt7RNu4Q0bv3EwC1QagjIpqkCr5JgP3DMANu3eBorzMmKtmz4C6CC8ekfgOsbpjF0uUkrRr+4CyDs/4+MFH+qkfHYyNIb11o9o7EsVMqcRMRJJXk/0gN68wg0sDIgg4m0w8varUmtl5iGNZ0iPsEH8NzvTEcg1Js3y2RPtjBDwAAAJsBn0t0Qn8AQ1rUyYZmPPt1Ukb53p9gfmu/u5YUcE61yYAK3COh/HTWmo+Wa42gbWXKLjODinlWLn7QPHMjMMTUUQ67W08iUpY0nGDYXlxrL/87J+/TAFvMK/Pihyblu8sYEV/dpNcaF6nXPh53niEQfL7vF4laljXMXtz1drtabwINWs389HgH3+f98DNyx3ovYJrBnZcBhwB0wQAAAIABn01qQn8AQ3c3hu7bF82ECSMsv6yYGQNcsP5aRBACp7fP/f6NF+W2x/iIAQd0eVWqY9Bl0sVezztXy/oGPJMhoDv37LbLEp1TLKI/zYtQw7DdhlBvLuLErFKzMRUN1QBbayEYB9qx/NFgA+yXyHqfy0DlzqBwOxRoCAhUsRcibwAAAQRBm1FJqEFsmUwIb//+p4QAAAMADY8J5/cAJClM2c0EeAPxcZkR8cq+sJh+Up1/8PWBWbW2NPOd7dqM8G4b4UxTB+wio5MeVSlDxBc4faGPyAke36EZfi9sj2+cbvHbTX9MLD9yyZNJJnCKBVgTgBghoeEJiTfw46SJreU6szoBK6EByc9mQcNtsMc7z3NtMz9Gi4sUS6W3xqub6FK+G4x05PQPq6Pk96WdajOa17OXzYr5AiRM+oUy/vGFSD19RbcP79XigeWc0sDi4of3xlzuyYrnpc2NT24uGgL2B6CU9zyG1vJ7gVLDLgIU9/aBx5CsIb2OHHTQy4TRal5MGaal9UrlxQAAAIxBn29FFSwr/wUTYPMrpOfKg8iWvE5xmt7RNu4Q0bv3EwC1QagjIpqkGk/etX+A47ojlIAmjLfKMCCHa0goeOekB469qBbtfPsZgP90zULKsFgDnLcQpStkEK5tavYUS93xN1QgtFfD/iyxorPUzhiGMuNR3Me1gKKuuHpqWMzrVAd2L8WvkUdazcRvQAAAAJABn5BqQn8AQ3c3hu7bF82ECSMsv6yYGQNcsP5Y61AgGQAXEZzcJfved/S3EyG+odjjsSZk6CYT9MkAAmiYR+5zUqgNR+1m1rzodOVhX/xfaccVHJK8QdG8xpDZptQpeMa+KGab+Xj36DQLL2cmvnh9QXfTQwR9Vsdxm8rs6hN0j9M7R3StCAilsnI7wtdNsq4AAAEfQZuVSahBbJlMCG///qeEAAADAA6PCepQADWhNSKCmZR5ELxIFuF1RfWDH5ht7lBsvQ1vEq7csmgq1qxqHBmtUD7W1RBsFrGGjh7JiZEzJAztFqGydWSc4sfapP9/xw+Ql3sK17XrcLkNLZyh29MGRJDVCmZxtcFkHGv4C3p2Tzrq1YzHnrKlTdsYp/wRlILd5eWpGjip731xTvFD6TAWozJNdTvNLqmtvZO/ywGMjNkg1eZxb2QQp0NjvyRCn3QLNR8sgfsyG+4JAsfFiXbe5F5WskZ+tNCumqceOkQdr0K2ZlDsNcqUqIqX4LPMOK6E3vJHDDgh1DMlv+eeps6m5F1u25ImkbB6zWsfSRTUt/B42o/kVDgKk9Mmj9Mn4MEAAACDQZ+zRRUsK/8FE2DzK6TnyoPIlrxOcZre0TbuENG79xMAtUGoIyKapBpDigfUtczN8dABas2CUPDoJZLaJUW/00n2RM81V6Kku05H/PgoiN25f3igAwkEGTKGSzlk4UuN37qVdK4hJv7vyKL0PQV/Kyfv3i5/cN+mrrB2hP/rDX9fIuAAAACFAZ/SdEJ/AENa1MmGZjz7dVJG+d6fYH5rv7uWE9kovh4dwAtbvjAr5PTYS1vuGYTRVO289gozpZE4tKtw+LaWtxxqbACUZaj6hBp6HSgbI5sAD715HhN4vHiPG8S7prD80ZsmIq6Klnpe//KOuQeSH8VMPBP7fQmhgQPb15P4MBM1AJQRcAAAAHYBn9RqQn8AQ3c3hu7bF82ECSMsv6yYGQNcsP5Y9IfvKQAaB0kUUQeqqsFyZ0X8OJ2nh8x9bYAdmVS2YAySdUeeQTFl7CVMlp91mv5hDkSbQRiGMA4pPJsPZioNRlaBco5Zsd3Uaxc8kVY+O6Avk7F44XV3Gg9JAAAA60Gb2UmoQWyZTAhv//6nhAAAAwAOj7J0a3pjOOPeAD6gHVj1KngzMqCrM8tLc/7N/IIwTbC4lWzdvMtPNdVIQV/Dz/agCA7GVj3MImrEEc0XrWYrqD0xVmgZ5h0oRP5N5zocruuPQc4Tusw3TuyCRELD0+NIzlcvWiQSSUEC4sAA1/8u5BKzUzuVb3KSLkZeyBGfE65GkmeVZAaT/UlKcf6l59hRIJNNtiGn58lnOepvtWDplJW4cLGzP7UsUOG3UEtwXe0UCuCwIKWFxhxY1wsixIQzvYH9gfe0E2ED3uYVR/8j3579KVDRE4AAAACmQZ/3RRUsK/8FE2DzK6TnyoPIlrxOcZre0TbuENG79xMAtUGoIyKapBsTnMXlhHQAjH7Mu/SM4+Lip41xhsjqJz9FpDvmsQOehxP1T5xke3J0kin036emaHhbN05qf1HvPFYsnPt9V2Jszk7BXK5sFX1GPf1YnGkzPM7wv3ow/5+dSThJMf3kAEgdMoiTrLrpqBeibTMszq5HIDvUi9QxkePOTwVoWQAAAHwBnhZ0Qn8AQ1rUyYZmPPt1Ukb53p9gfmu/u7ifFgp/EEu2UAK3VJdRntSrdLKY7XrfSamzz38/sdpzDd8RMxsp329iHbJQlnS0qCMQLNQWyTgXmNntSXImdn7S1/upxX+IzG/ZkC2lhZG+MKjU2rSJ2ImyVZVr7xW0FCkhAAAAjAGeGGpCfwBDdzeG7tsXzYQJIyy/rJgZA1yxgp8kdoFiAIR5VVoc5rDobDVAsO82hX98fUTUhLcuerboqNZXXOQ5OiSA4c9Mwl4GYNWWG4RM2IhelwCfSaNyBfpUkJXBXPGT1rFcHh2z3qDkz/Uy8F7/TQmX0mmI+qhG0nJNeWN/hGJybyktWeEe1lQQAAAJoGWIggAEP/73gb8yy2Q/qslx+ed9LKzPPOQ8cl2JrrjQAAADAAADAAFHh7Xrjd2DW0nQAAAawAOkH8F5GDHQI+PkcI6BwESLwC3FfYLDMUEABlm7SkJsKYVXqJGu+/H4trI6Vq4QdQFfa6phopOKpsXcHcjIZ20dSih6qyRdlyJU2EilggPr08/mEUeGpJMAe+X9SjwNLT1vshza74z3XAk23uqXZwEsbRr7KKOTblyYZCtnwI91m2ltONFX3xDfmpQfHqTAyrqEc4PV6Ap8RqH/vfXNqehJvUnCC4wW7ujxZeTd8c17plzXwSukhwzr6OUWiN5KjWFso8b2RD+G0+/3NCZBihkPoqPa+8rZg7+43uSY4d0PhuWGVkErCJLqGIlpnDayQuW8y3w8vOQaH+I8xPbyJhfvx7xR2FKZhs/jQ/OJYqw1AAHcjP/UdiUnZtJvULQqzQkwgCecnp3IOYob0T6yqgk4Y43SYqZuQQIppzg9kEqL3pTwpiGjpnxOAWFK32lViBX77mvdyrXpKEmi9vsJgsIMziKu+OOWVmcPIMZAwyn8icPc1cxd1KHrPHJw33+SOlK/62iC9w3mzBx/VCgCnp/UQk+3Qf0kCTeffJ6lzhZPPzHpXXXHbpNaqhRUxBDZ/SNCta3DkiJ/HIuBOounp1Q1iljvV442p5oo0K9tclCj3pCZ5V8llvMb4h/f1ZIl3F1Y0u/7cQiioeAD9SR4x6XMjsfytXaH/sENKaRO/ixkdlatTpTmuLwE3m1xAee8jpW9MRoKTWVrcpnQUKRPokuPdE73l1+Ab7Kn2lldi8r8uZU3i6qMvvKjbg7K4Ft0U7MzQuUlHy4zLCMvIgd75AQfid6ya+xkKV+T41ghTW+7CnhxURVRzAoxF/K3Is0Jq5hiI76oPqNiVx1goiEH0WHIfGCor+HzaWv+X8V/2Q1m9ZNQbIfbyupzVA8acuRyD/y9/BEaQYaIea71xQKiA2p/K5xBGO5Ydrh0ByHLzqPtpiancVuSA/oWZchClTTs95iQjyz/83Re6T1flYiRQ8DjMf+MxRHih7cYDiTCB6ZxGQ8Oj8jI/yZTXesWvnVR4eHM7W92jNjpBTRWRw11gy+yBwcpH1zX8nsqUuTiM5FO6FSSSxby5bGtTByLkvZFr9JYokB7RV6EZuR4eR7mBoO83jvO5So1MtITVr/9q162QZbiCrxQQLBu8iZnMalcvmiEmfKHkdevutAl2HFJZjXBzyZ7cVfXyfcKgJhwr1EI+3ui1IsopzTr/GP6JVzYGpT++jCuu93e4NjtzgazLrdF/rEWaBSlwd5WEM6nPjfZ9UbMOYq/BFLAuvwPqFhH5a+RIDh+G0k7gxpWHKU18ycA+IFUHC1oR8TJXLeuHAt8mDHB+BfzRlUx30ACjz7fiM2c4LFIbaQRdinH3fOUJaCTCsN22sC5HhfRLJBCI/iDwTqjPf6yOCMr01yHeNxnvNogw9qJ89AZcKxwkQSFesAY4VLpivra2b6y3sQjsfFUC2KiK7YoUpuxTIinO/y4W1f/2Z1lqn2segYMUqCVUWSVawNFbvDbtGjPOsVd+LrDI0zdjM2gngGgy/GGTsQqi8MJN5271PXvH0T91kNZo8VMo7G/ym2VLP0+mj8IJDzsPbNZQFkT2gQ5p2xALMSazLM/4H7LIaMmN2qUb+1dCvO93KuRfBYC7DpbFrD7Z+cUDfW2UD6R+AVvYDrZgPbDuk1ooMqWozlZ2OftQDcqpqOyRmfyXvu+CXYeHu2/udtZIaeR+29yNMiYf9c/1i3JSGZxRxL9GqMtRWYkTpmlFQktdZL80vN93CiV7XIWXdfr2tw5cvEouycbO4nb4tm74Yc0aE3uMkM3BhEoZxfuoyJlVzFxzoItFNp4QgXfQ2RzJxCZvN4QRk59q41QfLn+CH23G/MppVy8LLhrEBjrnroQBGep1fEc1QWjN3OE4OSJpGZn4sH/R53UganWxIlNVGb1iCWTNq0Vt6/hWBvZHxDv7+HE48Eeub6vq1MJb+t0diPfXfXZcwlu8aHnlWFl0SGRG+/8JLfg7dW0E9g92qzmTqWmki8WXJO/qt7O04gtgg2LpL32cDs24RcqkgiO5XEhcPwy+vH/uinlSjiNwTvvDd3L4Lp+ylT3HfucXHA/54ea3G/4ldGR8B9jL0ZrURXCs7jwzEqaVF577wIbbv1+BfWfrdDhXebaqjRCGCsrKebVMpAcmSNss/+S3WwRzOcCOX6TD8tXbfj6OKm9E2AqJ5o2f8zsfNBoQ6qmv2qXT9wLfLtNxDE+HKy/sqZCkudH6vd7uzG8a3IHI1YF8ZZ/BurLbjuuVsWniHC3SAKJooKVu8lvBMtlHiHmIOL6dHMDkDTHZbalC+/XNxg5vzdRlz5HgBWagIeF0wR6TTB59mCTQMUCdgKjIyC3a1rCU0rwvmLmXdu5YvHxGPhoLcCra97dn+E2FcXjzzf2B1nIJv6R3T6CajVrFyu8RgAleN0ZYPEQGUXbO34rMPYinxYLU/vqoVWRfB9Pn/Zj7Nl5aWiygG9/KEXuTjPlXf+uCSpgkG51Ys5F/D7HsMg8YuGGrKWqd9e6AnigXQKJtX8gLMMJFZJC1vIukWi33s2ZhWlXapUT38Z6Cb/1HTnLtlWBuF6DcY8/VLiKlYV1bxXEr2T2RVL67yZ0QNU3geK1oXL40P5Ha71aSJ4G2hT0uJxYTu0E2oecjbTdgzMBMw9/k1ARtFm2WxERkVtMPASw8+g9+tmfhJuaOpje9utoNw536N0Qu4cj/6KmHaef+3X5hfJl4sdVWr7upE40Xmabyo+N/j1Atjv17GtvZic/v/QS2EGoVx80YwewNDvHFSZ7k0ftarPbFBX9++uDhZP5O060+gni5Bg+Tp8Ak/nRYVlGu4KaTNKHhz+TNC5DUi5eZ/yHVT1bi5n+gD4mcYcL5Cv6mVYM6SNiGSWC86jLHUt+RT7GVG/vDZLGhXZ+o9W24EFlqn2PcSCwDXejvQ3MsToQH9pjXjPm9NAWOdqhTKUyqPviKMznKhOjyamdeP6usu7fsWBE400eeEz7gIbrWyrBu67SgYAjqUDZZyH39b6sGtl9USUN2xYFJCCukSZVTjrqUmUd6yILhoQd4qACfGU27gmXVwdMwKgKj2cRulaxil9UQh3iirEkwaJVzhfAQiwF61zgZlCH2FKeD4J36vjosvBAlZ48GrWKgH1nJCNBseJwRBlFFGTRmInJ2zim1eN7RY0y1zsMULqOvOHQwjH8TylVeWWgA48AAADXQZokbEN//qeEAAADAA4jJyQBbqi1aIEWLuzo/MBMRk3JpvDy3X9QHtrRjM1WGBQqHAO3xIE0OjqoUeywHpC13qIR5F042oOt2VXdf/PDu1jKqHLixk4HpEPt9gKt+mHu+769nGf0sgdZKMqRzmmjC/aT0IUkgfc5khjHNL0N3slpRuwfM2KadMyLMD/RunyQCnur6AEc2UgRaMlNQeYeKfD/Gp7DxUw5+XT2ymKB+ZhJByH9FhssAQbcMIiqTuTtnI/EqHnCgbu3MR6phko7JRfuTxSXJeAAAABJQZ5CeIT/AAADAA7YryABs/OEiUu+zwfTh8o3lbz1ncved4zJESN9Q6RiTczJ0Evr89Lo2uu1+uDlW3cIPsT39s0knLdVaYkFDwAAAFgBnmF0Qn8AAAMAI770PwT854QAXUQ+ZNPuBU+TCmlwumWS2yHrnnXpDmCra1Zx9epBAmC4p119Xtruqi94Oy7NZfKGrQlnXmU7DJnXZUM1zYWuD2l9reBhAAAAbwGeY2pCfwAAAwAjsVNKDAAv8FC2lNCMKl/CyzcwIp9hghrreDBzsUAuQSpv8KYD5LA3G+d6FS5MZWbFdPafZCpNIiQQOTN4YOs4y2fhmkjuLTmWm1sVLtMfy9JDHYRRUdEFmHdI2xgKxCpZRRgQgAAAANJBmmhJqEFomUwIb//+p4QAAAMADc2oOTmhmAmpEuowBH+RK2wz4i9ogRVTLVl7MThFQThW5/59m4yOXbh1rKExkkGUC4v5JLHTre/IrI0he/5c6y0qfyEkuM3/N5Sw2xFl8xG8kfZWCV8+sHTuLtzJdDndS/jx3II9ErxdgcvVMB3ML6CJcYacmEmmp//DdEBsmJRiLtJhsYmVfGzNfE0KES8QvMzRQc9ZE15ZlPheMc1kLiBL3HstAc66pTCiRflAG5OG0ohZsn7vBManO0BfPnAAAAA9QZ6GRREsK/8AAAMAC6/RyADm/lMTyA+c9dOgKIcNT54rBgXQ9x0tvyLGkY4Tmsw5GDaH9DjQjaE+KHD0wQAAAE4BnqV0Qn8AAAMADty49PBABdAhEXvChqetGyZ8cfxGZS6R/cl1laazCKM2GvNr9JjuMezi70MZ3POP8afI9ZssK0NEZsvhrNVxxAYKPHAAAAAvAZ6nakJ/AAADAA89CcAcmGNMrEM1I+bAhy3QIT5kuPK2SiCYG2e5z1I15BFdTakAAAEDQZqrSahBbJlMCG///qeEAAADAB/eE93YABX2UPTQMSsmSLY7fOhGHDTpz9cJ2ir1FBCHtNCEeGV6jae4BwxSB6iV1FerZfo4Lr9fMCFRqJXozKVyDA1zlxVEhuWtF0gNHXEl4xcTPRWB4T5WzlirL4DTcoUnegSWEfJPaP6mr9roNUA+NBa+2XLkof8vlDlTd12b9z7420vXepq2LlSe/WlanFpFqRHI3YxN3loR2uc5R2jp3JyNtOAMGB6jaq1NknIsxk2v0riH/Xm9mKKhun0NJxr/3cZd6LnVIxOiav+CyyeAAEk/3HuQuC6oxg0BmrIaMiGfaCxRb22XQOruU8jsfAAAAFpBnslFFSwr/wAAAwAbFAsAoKOBt2JP1HrLMuM5EpBcOU+Ve8iMmAUt9PRyOWQ+Nz2A3zreDZH91B9AZE7XSYZbpc7lNF69RktBchn2wmYg/WWVG95617xQ/n0AAABJAZ7qakJ/AAADACKxMX0urOQDobKDGgUQATtkx0DaIklXbCzvYVuBH6I/JH5kMjYeua4eGcXkIpYC0yB+DBGeLSPBmtQmL3hNWQAAAMJBmu9JqEFsmUwIb//+p4QAAAMAJbTBkgAV0+fUg3NZF9/VBxwLkrPpKNy4jVLT7vSnZtyxfm2+h5M5Jfwh2EYgeNsKaDHFzdEXImYxdnEFBr6zTAEVJpttdDQVa2KEbkYUpBmUnsqBAMV4h4mLYHptRI0a9HSOeh4RNTD6vNioPNNzgGV2GH/8Ea9XqGkokAhyv7EMWokcvs1u3VvtLpYR1YQtYxz2KlxJAYP6n6esWxCPFtviD++jXiMPZ2UbGWZNbQAAADhBnw1FFSwr/wAAAwAaYhZssCg7PXZvYb70AmFYQjts16nPwi1FS453kTwlAWcrMx9V/WRkoZXHwQAAADIBnyx0Qn8AAAMAJq1hzX/jmYz+OPNtYAOUBJSMaPxea++wpVnRxGPaOTbrbXXsFreHzAAAACQBny5qQn8AAAMABNaU7AAGpHUwl++0ZmzVIGr24polA4WpkkwAAAAhQZszSahBbJlMCG///qeEAAADAAG5tQtl+AolfuS20p5ZAAAAFkGfUUUVLCv/AAADAACSyE5DP400fpAAAAATAZ9wdEJ/AAADAAC++T3jQyaP0gAAAA8Bn3JqQn8AAAMAAAMA3oEAAAAYQZt3SahBbJlMCG///qeEAAADAAADANSBAAAAEkGflUUVLCv/AAADAACHBmPoeQAAAA8Bn7R0Qn8AAAMAAAMA3oAAAAAPAZ+2akJ/AAADAAADAN6AAAAAGEGbu0moQWyZTAhv//6nhAAAAwAAAwDUgQAAABJBn9lFFSwr/wAAAwAAhwZj6HgAAAAPAZ/4dEJ/AAADAAADAN6AAAAADwGf+mpCfwAAAwAAAwDegQAAABdBm/9JqEFsmUwIZ//+nhAAAAMAAAMDPgAAABJBnh1FFSwr/wAAAwAAhwZj6HkAAAAPAZ48dEJ/AAADAAADAN6BAAAADwGePmpCfwAAAwAAAwDegAAAABdBmiNJqEFsmUwIX//+jLAAAAMAAAMDQwAAABJBnkFFFSwr/wAAAwAAhwZj6HgAAAAPAZ5gdEJ/AAADAAADAN6BAAAADwGeYmpCfwAAAwAAAwDegQAAABdBmmZJqEFsmUwIT//98QAAAwAAAwAekAAAABJBnoRFFSwr/wAAAwAAhwZj6HgAAAAPAZ6lakJ/AAADAAADAN6BAAAQam1vb3YAAABsbXZoZAAAAAAAAAAAAAAAAAAAA+gAACWiAAEAAAEAAAAAAAAAAAAAAAABAAAAAAAAAAAAAAAAAAAAAQAAAAAAAAAAAAAAAAAAQAAAAAAAAAAAAAAAAAAAAAAAAAAAAAAAAAAAAAAAAAIAAA+UdHJhawAAAFx0a2hkAAAAAwAAAAAAAAAAAAAAAQAAAAAAACWiAAAAAAAAAAAAAAAAAAAAAAABAAAAAAAAAAAAAAAAAAAAAQAAAAAAAAAAAAAAAAAAQAAAAAJgAAABkAAAAAAAJGVkdHMAAAAcZWxzdAAAAAAAAAABAAAlogAABAAAAQAAAAAPDG1kaWEAAAAgbWRoZAAAAAAAAAAAAAAAAAAAPAAAAkIAVcQAAAAAAC1oZGxyAAAAAAAAAAB2aWRlAAAAAAAAAAAAAAAAVmlkZW9IYW5kbGVyAAAADrdtaW5mAAAAFHZtaGQAAAABAAAAAAAAAAAAAAAkZGluZgAAABxkcmVmAAAAAAAAAAEAAAAMdXJsIAAAAAEAAA53c3RibAAAAJdzdHNkAAAAAAAAAAEAAACHYXZjMQAAAAAAAAABAAAAAAAAAAAAAAAAAAAAAAJgAZAASAAAAEgAAAAAAAAAAQAAAAAAAAAAAAAAAAAAAAAAAAAAAAAAAAAAAAAAAAAAABj//wAAADFhdmNDAWQAHv/hABhnZAAerNlAmDOhAAADAAEAAAMAPA8WLZYBAAZo6+PLIsAAAAAYc3R0cwAAAAAAAAABAAABIQAAAgAAAAAYc3RzcwAAAAAAAAACAAAAAQAAAPsAAAjgY3R0cwAAAAAAAAEaAAAAAQAABAAAAAABAAAKAAAAAAEAAAQAAAAAAQAAAAAAAAABAAACAAAAAAEAAAgAAAAAAgAAAgAAAAABAAAIAAAAAAIAAAIAAAAAAQAACgAAAAABAAAEAAAAAAEAAAAAAAAAAQAAAgAAAAABAAAGAAAAAAEAAAIAAAAAAQAABgAAAAABAAACAAAAAAEAAAoAAAAAAQAABAAAAAABAAAAAAAAAAEAAAIAAAAAAQAABgAAAAABAAACAAAAAAEAAAoAAAAAAQAABAAAAAABAAAAAAAAAAEAAAIAAAAAAQAACAAAAAACAAACAAAAAAEAAAoAAAAAAQAABAAAAAABAAAAAAAAAAEAAAIAAAAAAQAACgAAAAABAAAEAAAAAAEAAAAAAAAAAQAAAgAAAAABAAAKAAAAAAEAAAQAAAAAAQAAAAAAAAABAAACAAAAAAEAAAoAAAAAAQAABAAAAAABAAAAAAAAAAEAAAIAAAAAAQAACgAAAAABAAAEAAAAAAEAAAAAAAAAAQAAAgAAAAABAAAKAAAAAAEAAAQAAAAAAQAAAAAAAAABAAACAAAAAAEAAAoAAAAAAQAABAAAAAABAAAAAAAAAAEAAAIAAAAAAQAACgAAAAABAAAEAAAAAAEAAAAAAAAAAQAAAgAAAAABAAAKAAAAAAEAAAQAAAAAAQAAAAAAAAABAAACAAAAAAEAAAoAAAAAAQAABAAAAAABAAAAAAAAAAEAAAIAAAAAAQAACgAAAAABAAAEAAAAAAEAAAAAAAAAAQAAAgAAAAABAAAKAAAAAAEAAAQAAAAAAQAAAAAAAAABAAACAAAAAAEAAAoAAAAAAQAABAAAAAABAAAAAAAAAAEAAAIAAAAAAQAACgAAAAABAAAEAAAAAAEAAAAAAAAAAQAAAgAAAAABAAAKAAAAAAEAAAQAAAAAAQAAAAAAAAABAAACAAAAAAEAAAoAAAAAAQAABAAAAAABAAAAAAAAAAEAAAIAAAAAAQAACgAAAAABAAAEAAAAAAEAAAAAAAAAAQAAAgAAAAABAAAKAAAAAAEAAAQAAAAAAQAAAAAAAAABAAACAAAAAAEAAAgAAAAAAgAAAgAAAAABAAAKAAAAAAEAAAQAAAAAAQAAAAAAAAABAAACAAAAAAEAAAoAAAAAAQAABAAAAAABAAAAAAAAAAEAAAIAAAAAAQAACgAAAAABAAAEAAAAAAEAAAAAAAAAAQAAAgAAAAABAAAKAAAAAAEAAAQAAAAAAQAAAAAAAAABAAACAAAAAAEAAAoAAAAAAQAABAAAAAABAAAAAAAAAAEAAAIAAAAAAQAACgAAAAABAAAEAAAAAAEAAAAAAAAAAQAAAgAAAAABAAAKAAAAAAEAAAQAAAAAAQAAAAAAAAABAAACAAAAAAEAAAoAAAAAAQAABAAAAAABAAAAAAAAAAEAAAIAAAAAAQAACgAAAAABAAAEAAAAAAEAAAAAAAAAAQAAAgAAAAABAAAKAAAAAAEAAAQAAAAAAQAAAAAAAAABAAACAAAAAAEAAAoAAAAAAQAABAAAAAABAAAAAAAAAAEAAAIAAAAAAQAACgAAAAABAAAEAAAAAAEAAAAAAAAAAQAAAgAAAAABAAAKAAAAAAEAAAQAAAAAAQAAAAAAAAABAAACAAAAAAEAAAoAAAAAAQAABAAAAAABAAAAAAAAAAEAAAIAAAAAAQAACgAAAAABAAAEAAAAAAEAAAAAAAAAAQAAAgAAAAABAAAKAAAAAAEAAAQAAAAAAQAAAAAAAAABAAACAAAAAAEAAAoAAAAAAQAABAAAAAABAAAAAAAAAAEAAAIAAAAAAQAACgAAAAABAAAEAAAAAAEAAAAAAAAAAQAAAgAAAAABAAAKAAAAAAEAAAQAAAAAAQAAAAAAAAABAAACAAAAAAEAAAoAAAAAAQAABAAAAAABAAAAAAAAAAEAAAIAAAAAAQAACgAAAAABAAAEAAAAAAEAAAAAAAAAAQAAAgAAAAABAAAKAAAAAAEAAAQAAAAAAQAAAAAAAAABAAACAAAAAAEAAAoAAAAAAQAABAAAAAABAAAAAAAAAAEAAAIAAAAAAQAACgAAAAABAAAEAAAAAAEAAAAAAAAAAQAAAgAAAAABAAAKAAAAAAEAAAQAAAAAAQAAAAAAAAABAAACAAAAAAEAAAoAAAAAAQAABAAAAAABAAAAAAAAAAEAAAIAAAAAAQAACgAAAAABAAAEAAAAAAEAAAAAAAAAAQAAAgAAAAABAAAKAAAAAAEAAAQAAAAAAQAAAAAAAAABAAACAAAAAAEAAAoAAAAAAQAABAAAAAABAAAAAAAAAAEAAAIAAAAAAQAACgAAAAABAAAEAAAAAAEAAAAAAAAAAQAAAgAAAAABAAAKAAAAAAEAAAQAAAAAAQAAAAAAAAABAAACAAAAAAEAAAoAAAAAAQAABAAAAAABAAAAAAAAAAEAAAIAAAAAAQAACgAAAAABAAAEAAAAAAEAAAAAAAAAAQAAAgAAAAABAAAIAAAAAAIAAAIAAAAAAQAACgAAAAABAAAEAAAAAAEAAAAAAAAAAQAAAgAAAAABAAAKAAAAAAEAAAQAAAAAAQAAAAAAAAABAAACAAAAAAEAAAQAAAAAAQAACgAAAAABAAAEAAAAAAEAAAAAAAAAAQAAAgAAAAABAAAKAAAAAAEAAAQAAAAAAQAAAAAAAAABAAACAAAAAAEAAAgAAAAAAgAAAgAAAAABAAAKAAAAAAEAAAQAAAAAAQAAAAAAAAABAAACAAAAAAEAAAoAAAAAAQAABAAAAAABAAAAAAAAAAEAAAIAAAAAAQAACgAAAAABAAAEAAAAAAEAAAAAAAAAAQAAAgAAAAABAAAKAAAAAAEAAAQAAAAAAQAAAAAAAAABAAACAAAAAAEAAAoAAAAAAQAABAAAAAABAAAAAAAAAAEAAAIAAAAAAQAACgAAAAABAAAEAAAAAAEAAAAAAAAAAQAAAgAAAAABAAAIAAAAAAIAAAIAAAAAHHN0c2MAAAAAAAAAAQAAAAEAAAEhAAAAAQAABJhzdHN6AAAAAAAAAAAAAAEhAAAKCgAAAU0AAACBAAAANQAAAFgAAAD2AAAAbgAAAFAAAAGCAAAAXQAAAHsAAAGWAAAAvQAAAJcAAACIAAABOgAAAKQAAAE6AAAAwAAAARcAAADSAAAAwAAAAOQAAAE7AAAA5wAAATgAAAEAAAAAwwAAANEAAAEsAAAA3QAAANIAAAEDAAAA0wAAAJMAAACcAAABZgAAAKAAAACaAAAAsgAAASMAAADTAAAAswAAAIwAAAD2AAAApQAAAJkAAACOAAABBQAAAKIAAACcAAAAiQAAAPsAAACvAAAAaAAAAJ0AAAEfAAAAwwAAAKMAAAC/AAAA+QAAAMAAAADXAAAAvAAAAUEAAADWAAAAvwAAAKgAAAEOAAAApwAAAH4AAACjAAABFQAAAI8AAACJAAAAnQAAAO0AAAC1AAAAqwAAAKEAAAERAAAAuwAAAJEAAACgAAAA/QAAALsAAACnAAAAzQAAAQYAAACFAAAAfQAAALwAAAEYAAAA0wAAAL0AAACeAAAA+AAAALEAAACGAAAAhAAAANEAAACXAAAAhAAAAHkAAADGAAAAfAAAAH0AAAExAAAAxwAAAJsAAACdAAAA5wAAALEAAADYAAAArAAAAW0AAADpAAAAtAAAAJIAAAFmAAAA0gAAANEAAAC9AAABIQAAAMMAAAC+AAAAuQAAARsAAAC8AAAAmwAAAKkAAAFCAAAAqgAAAI8AAACUAAABIAAAAMYAAACTAAAApAAAAOAAAACaAAAAhwAAAI8AAAC1AAAAgwAAAH4AAACXAAABGgAAAJMAAAB5AAAAmwAAAOUAAAC8AAAAlAAAAKEAAAERAAAAvwAAAK4AAAC1AAABAgAAAN4AAACMAAAArwAAAQUAAADQAAAAmgAAAIwAAAEnAAAA5AAAALcAAACkAAAA5gAAAMAAAACQAAAAowAAAOgAAAClAAAAkQAAAGwAAAEgAAAAowAAAJAAAAB7AAAA7AAAANIAAACEAAAAjgAAAKMAAACcAAAAdgAAAHwAAAD0AAAAqAAAAJYAAACRAAAA3wAAAKQAAACAAAAAcwAAANcAAACOAAAAkAAAAIMAAAD2AAAAsAAAAIYAAACJAAABNwAAAK0AAABpAAAAnAAAAOYAAAC9AAAAiwAAAHIAAAD1AAAAzAAAAIIAAABnAAABAgAAAMEAAACCAAAAdQAAASAAAACsAAAAfgAAAJkAAAEHAAAAsgAAAK4AAACYAAABNQAAAMUAAACCAAAAhwAAARUAAACZAAAAnwAAAIQAAAEIAAAAkAAAAJQAAAEjAAAAhwAAAIkAAAB6AAAA7wAAAKoAAACAAAAAkAAACaQAAADbAAAATQAAAFwAAABzAAAA1gAAAEEAAABSAAAAMwAAAQcAAABeAAAATQAAAMYAAAA8AAAANgAAACgAAAAlAAAAGgAAABcAAAATAAAAHAAAABYAAAATAAAAEwAAABwAAAAWAAAAEwAAABMAAAAbAAAAFgAAABMAAAATAAAAGwAAABYAAAATAAAAEwAAABsAAAAWAAAAEwAAABRzdGNvAAAAAAAAAAEAAAAwAAAAYnVkdGEAAABabWV0YQAAAAAAAAAhaGRscgAAAAAAAAAAbWRpcmFwcGwAAAAAAAAAAAAAAAAtaWxzdAAAACWpdG9vAAAAHWRhdGEAAAABAAAAAExhdmY1OC4yOS4xMDA=\" type=\"video/mp4\" />\n",
              "             </video>"
            ]
          },
          "metadata": {}
        }
      ],
      "source": [
        "import glob\n",
        "import io\n",
        "import base64\n",
        "import imageio\n",
        "from IPython.display import HTML, display\n",
        "from gym.wrappers.monitoring.video_recorder import VideoRecorder\n",
        "\n",
        "def show_video_of_model(agent, env_name):\n",
        "    env = gym.make(env_name, render_mode='rgb_array')\n",
        "    state, _ = env.reset()\n",
        "    done = False\n",
        "    frames = []\n",
        "    while not done:\n",
        "        frame = env.render()\n",
        "        frames.append(frame)\n",
        "        action = agent.act(state)\n",
        "        state, reward, done, _, _ = env.step(action.item())\n",
        "    env.close()\n",
        "    imageio.mimsave('video.mp4', frames, fps=30)\n",
        "\n",
        "show_video_of_model(agent, 'LunarLander-v2')\n",
        "\n",
        "def show_video():\n",
        "    mp4list = glob.glob('*.mp4')\n",
        "    if len(mp4list) > 0:\n",
        "        mp4 = mp4list[0]\n",
        "        video = io.open(mp4, 'r+b').read()\n",
        "        encoded = base64.b64encode(video)\n",
        "        display(HTML(data='''<video alt=\"test\" autoplay\n",
        "                loop controls style=\"height: 400px;\">\n",
        "                <source src=\"data:video/mp4;base64,{0}\" type=\"video/mp4\" />\n",
        "             </video>'''.format(encoded.decode('ascii'))))\n",
        "    else:\n",
        "        print(\"Could not find video\")\n",
        "\n",
        "show_video()"
      ]
    }
  ],
  "metadata": {
    "colab": {
      "provenance": []
    },
    "kernelspec": {
      "display_name": "Python 3",
      "name": "python3"
    },
    "language_info": {
      "name": "python"
    }
  },
  "nbformat": 4,
  "nbformat_minor": 0
}